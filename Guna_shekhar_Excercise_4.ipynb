{
  "cells": [
    {
      "cell_type": "markdown",
      "metadata": {
        "id": "3QiI1wtydl2D"
      },
      "source": [
        "## Environment"
      ]
    },
    {
      "cell_type": "code",
      "execution_count": 231,
      "metadata": {
        "colab": {
          "base_uri": "https://localhost:8080/",
          "height": 35
        },
        "id": "w0rN1OSidl2F",
        "outputId": "33c9a90e-fe6b-4f33-f090-8314cc1941c2"
      },
      "outputs": [
        {
          "output_type": "execute_result",
          "data": {
            "text/plain": [
              "'0.3.17'"
            ],
            "application/vnd.google.colaboratory.intrinsic+json": {
              "type": "string"
            }
          },
          "metadata": {},
          "execution_count": 231
        }
      ],
      "source": [
        "#Using latest version of LangChain\n",
        "import langchain\n",
        "langchain.__version__"
      ]
    },
    {
      "cell_type": "markdown",
      "metadata": {
        "id": "OYn6FaOLdl2I"
      },
      "source": [
        "### Install Packages"
      ]
    },
    {
      "cell_type": "code",
      "execution_count": 232,
      "metadata": {
        "id": "yGbtY-v_dl2J"
      },
      "outputs": [],
      "source": [
        "# !pip install langchain_community tiktoken langchain-groq langchainhub chromadb langchain\n",
        "# !pip install --quiet --upgrade langchain-text-splitters langchain-community langgraph"
      ]
    },
    {
      "cell_type": "markdown",
      "metadata": {
        "id": "LBl7O9apdl2J"
      },
      "source": [
        "### API Keys"
      ]
    },
    {
      "cell_type": "code",
      "source": [
        "# !pip install dotenv\n",
        "# !pip install langchain_chroma\n",
        "# !pip install langchain_huggingface\n",
        "# !pip install langchain_groq"
      ],
      "metadata": {
        "id": "qpmEM347duRx"
      },
      "execution_count": 233,
      "outputs": []
    },
    {
      "cell_type": "code",
      "execution_count": 234,
      "metadata": {
        "colab": {
          "base_uri": "https://localhost:8080/"
        },
        "id": "MqpHWqitdl2K",
        "outputId": "c016ec92-be44-4ee1-d5cb-82923b7da885"
      },
      "outputs": [
        {
          "output_type": "execute_result",
          "data": {
            "text/plain": [
              "False"
            ]
          },
          "metadata": {},
          "execution_count": 234
        }
      ],
      "source": [
        "import os, json, re, getpass\n",
        "from dotenv import load_dotenv\n",
        "\n",
        "load_dotenv(\".env\", override=True)"
      ]
    },
    {
      "cell_type": "code",
      "execution_count": 235,
      "metadata": {
        "id": "cY6dY9Ncdl2K"
      },
      "outputs": [],
      "source": [
        "def _set_env(var: str):\n",
        "    if not os.environ.get(var):\n",
        "        os.environ[var] = getpass.getpass(f\"{var}: \")"
      ]
    },
    {
      "cell_type": "code",
      "execution_count": 236,
      "metadata": {
        "id": "PIJGMAVGdl2K"
      },
      "outputs": [],
      "source": [
        "#Check for Groq API Key\n",
        "_set_env(\"GROQ_API_KEY\")"
      ]
    },
    {
      "cell_type": "code",
      "execution_count": 237,
      "metadata": {
        "id": "Y8-O3OGRdl2L"
      },
      "outputs": [],
      "source": [
        "#Check for Tavily API Key\n",
        "_set_env(\"TAVILY_API_KEY\")"
      ]
    },
    {
      "cell_type": "markdown",
      "metadata": {
        "id": "hXnT2p7ndl2L"
      },
      "source": [
        "### Libraries"
      ]
    },
    {
      "cell_type": "code",
      "source": [
        "# !pip install langchain_community"
      ],
      "metadata": {
        "id": "qy2Dg8OIePuc"
      },
      "execution_count": 238,
      "outputs": []
    },
    {
      "cell_type": "code",
      "execution_count": 239,
      "metadata": {
        "id": "Lw0x6xKjdl2M"
      },
      "outputs": [],
      "source": [
        "from langchain_groq import ChatGroq\n",
        "from langchain_huggingface import HuggingFaceEmbeddings\n",
        "from langchain_chroma import Chroma\n",
        "\n",
        "from typing import Literal\n",
        "from langchain_core.prompts import ChatPromptTemplate\n",
        "from langchain_community.document_loaders import WebBaseLoader\n",
        "from langchain_text_splitters import RecursiveCharacterTextSplitter\n",
        "from pydantic import BaseModel, Field\n",
        "\n",
        "from pprint import pprint"
      ]
    },
    {
      "cell_type": "markdown",
      "metadata": {
        "id": "hYztPyb3dl2M"
      },
      "source": [
        "## Selecting Components"
      ]
    },
    {
      "cell_type": "markdown",
      "metadata": {
        "id": "Qqgm_Gvfdl2M"
      },
      "source": [
        "### Chat Model"
      ]
    },
    {
      "cell_type": "code",
      "execution_count": 240,
      "metadata": {
        "id": "lD3DiSildl2N"
      },
      "outputs": [],
      "source": [
        "llm = ChatGroq(model=\"llama-3.1-8b-instant\") #llama3-8b-8192, llama-3.1-8b-instant, llama3-groq-8b-8192-tool-use-preview, llama3-groq-70b-8192-tool-use-preview"
      ]
    },
    {
      "cell_type": "markdown",
      "metadata": {
        "id": "3H7lEWeBdl2N"
      },
      "source": [
        "### Embedding Model"
      ]
    },
    {
      "cell_type": "code",
      "execution_count": 241,
      "metadata": {
        "colab": {
          "base_uri": "https://localhost:8080/"
        },
        "id": "2SmAFIGOdl2N",
        "outputId": "34e43d0d-f4ec-490c-ffa5-5050eec74b30"
      },
      "outputs": [
        {
          "output_type": "stream",
          "name": "stdout",
          "text": [
            "Requirement already satisfied: tiktoken in /usr/local/lib/python3.11/dist-packages (0.8.0)\n",
            "Requirement already satisfied: regex>=2022.1.18 in /usr/local/lib/python3.11/dist-packages (from tiktoken) (2024.11.6)\n",
            "Requirement already satisfied: requests>=2.26.0 in /usr/local/lib/python3.11/dist-packages (from tiktoken) (2.32.3)\n",
            "Requirement already satisfied: charset-normalizer<4,>=2 in /usr/local/lib/python3.11/dist-packages (from requests>=2.26.0->tiktoken) (3.4.1)\n",
            "Requirement already satisfied: idna<4,>=2.5 in /usr/local/lib/python3.11/dist-packages (from requests>=2.26.0->tiktoken) (3.10)\n",
            "Requirement already satisfied: urllib3<3,>=1.21.1 in /usr/local/lib/python3.11/dist-packages (from requests>=2.26.0->tiktoken) (2.3.0)\n",
            "Requirement already satisfied: certifi>=2017.4.17 in /usr/local/lib/python3.11/dist-packages (from requests>=2.26.0->tiktoken) (2025.1.31)\n"
          ]
        }
      ],
      "source": [
        "!pip install tiktoken"
      ]
    },
    {
      "cell_type": "code",
      "execution_count": 242,
      "metadata": {
        "id": "iZDmliA6dl2O"
      },
      "outputs": [],
      "source": [
        "embed_model = HuggingFaceEmbeddings(model_name=\"sentence-transformers/all-mpnet-base-v2\")"
      ]
    },
    {
      "cell_type": "markdown",
      "metadata": {
        "id": "rv1iQpn4dl2O"
      },
      "source": [
        "### Vector Store"
      ]
    },
    {
      "cell_type": "code",
      "execution_count": 243,
      "metadata": {
        "id": "8oFROMJMdl2O"
      },
      "outputs": [],
      "source": [
        "vector_store = Chroma(embedding_function=embed_model)"
      ]
    },
    {
      "cell_type": "markdown",
      "metadata": {
        "id": "eXI8uXDtcsCD"
      },
      "source": [
        "## Retriever"
      ]
    },
    {
      "cell_type": "markdown",
      "metadata": {
        "jp-MarkdownHeadingCollapsed": true,
        "id": "4g8LjMu7dl2P"
      },
      "source": [
        "First, we index 3 pages."
      ]
    },
    {
      "cell_type": "code",
      "execution_count": 244,
      "metadata": {
        "id": "bWA8X-Zhdl2P"
      },
      "outputs": [],
      "source": [
        "urls = [\n",
        "    \"https://www.jioinstitute.edu.in/academics/artificial-intelligence-data-science\",\n",
        "    \"https://www.jioinstitute.edu.in/academics/study-abroad\",\n",
        "    \"https://www.jioinstitute.edu.in/experiential-learning\"\n",
        "]"
      ]
    },
    {
      "cell_type": "code",
      "execution_count": 245,
      "metadata": {
        "id": "nMb_gH7Hdl2P"
      },
      "outputs": [],
      "source": [
        "docs = [WebBaseLoader(url).load() for url in urls]\n",
        "docs_list = [item for sublist in docs for item in sublist]"
      ]
    },
    {
      "cell_type": "code",
      "execution_count": 246,
      "metadata": {
        "id": "hlRlVT34dl2P"
      },
      "outputs": [],
      "source": [
        "text_splitter = RecursiveCharacterTextSplitter.from_tiktoken_encoder(\n",
        "    chunk_size=100, chunk_overlap=50\n",
        ")\n",
        "doc_splits = text_splitter.split_documents(docs_list)"
      ]
    },
    {
      "cell_type": "code",
      "execution_count": 247,
      "metadata": {
        "id": "H6T-W-FAdl2P"
      },
      "outputs": [],
      "source": [
        "# Add to vectorDB\n",
        "vectorstore = Chroma.from_documents(\n",
        "    documents=doc_splits,\n",
        "    collection_name=\"rag-chroma\",\n",
        "    embedding=embed_model,\n",
        ")"
      ]
    },
    {
      "cell_type": "code",
      "execution_count": 248,
      "metadata": {
        "id": "7UvMB85fdl2P"
      },
      "outputs": [],
      "source": [
        "retriever = vectorstore.as_retriever()"
      ]
    },
    {
      "cell_type": "markdown",
      "metadata": {
        "id": "NF08BHZvdl2Q"
      },
      "source": [
        "## Define Test Questions"
      ]
    },
    {
      "cell_type": "code",
      "execution_count": 249,
      "metadata": {
        "id": "RSGpKPyvdl2Q"
      },
      "outputs": [],
      "source": [
        "question_search = \"Who is Nikola Tesla\""
      ]
    },
    {
      "cell_type": "code",
      "execution_count": 250,
      "metadata": {
        "id": "g7_iNGgYdl2Q"
      },
      "outputs": [],
      "source": [
        "question_doc = \"What are the highlights of the PGP in Data Science and AI course at Jio Institute\""
      ]
    },
    {
      "cell_type": "markdown",
      "metadata": {
        "id": "0t9s62e7dl2Q"
      },
      "source": [
        "## LLMs"
      ]
    },
    {
      "cell_type": "markdown",
      "metadata": {
        "id": "474mmQiqdl2Q"
      },
      "source": [
        "### Router"
      ]
    },
    {
      "cell_type": "code",
      "execution_count": 251,
      "metadata": {
        "id": "sIdEfj0Mdl2Q"
      },
      "outputs": [],
      "source": [
        "from typing import Literal\n",
        "from langchain_core.prompts import ChatPromptTemplate\n",
        "from pydantic import BaseModel, Field"
      ]
    },
    {
      "cell_type": "code",
      "execution_count": 252,
      "metadata": {
        "id": "noktzRbqdl2R"
      },
      "outputs": [],
      "source": [
        "# Data model\n",
        "class RouteQuery(BaseModel):\n",
        "    \"\"\"Route a user query to the most relevant datasource.\"\"\"\n",
        "\n",
        "    datasource: Literal[\"vectorstore\", \"web_search\"] = Field(\n",
        "        ...,\n",
        "        description=\"Given a user question choose to route it to web search or a vectorstore.\",\n",
        "    )"
      ]
    },
    {
      "cell_type": "code",
      "execution_count": 253,
      "metadata": {
        "id": "X2pTbTRpdl2R"
      },
      "outputs": [],
      "source": [
        "# LLM with function call\n",
        "structured_llm_router = llm.with_structured_output(RouteQuery)"
      ]
    },
    {
      "cell_type": "code",
      "execution_count": 312,
      "metadata": {
        "id": "lVxYBT91dl2R"
      },
      "outputs": [],
      "source": [
        "# Prompt\n",
        "system = \"\"\"You are an expert at routing a user question to a vectorstore or web search.\n",
        "The vectorstore contains documents related to agents, prompt engineering, and adversarial attacks.\n",
        "Use the vectorstore for questions on these topics. Otherwise, use web-search.\"\"\"\n",
        "route_prompt = ChatPromptTemplate.from_messages(\n",
        "    [\n",
        "        (\"system\", system),\n",
        "        (\"human\", \"{question}\"),\n",
        "    ]\n",
        ")"
      ]
    },
    {
      "cell_type": "code",
      "execution_count": 255,
      "metadata": {
        "colab": {
          "base_uri": "https://localhost:8080/"
        },
        "id": "PeijJXdBdl2R",
        "outputId": "d129acd8-6693-43c7-a79e-a28d09a366fd"
      },
      "outputs": [
        {
          "output_type": "stream",
          "name": "stdout",
          "text": [
            "datasource='web_search'\n",
            "datasource='web_search'\n"
          ]
        }
      ],
      "source": [
        "question_router = route_prompt | structured_llm_router\n",
        "print(\n",
        "    question_router.invoke(\n",
        "        {\"question\": question_search}\n",
        "    )\n",
        ")\n",
        "print(question_router.invoke({\"question\": question_doc}))"
      ]
    },
    {
      "cell_type": "markdown",
      "metadata": {
        "id": "bhPpW0uldl2R"
      },
      "source": [
        "### Retrieval Grader"
      ]
    },
    {
      "cell_type": "code",
      "execution_count": 256,
      "metadata": {
        "id": "WgmQ5gZpdl2S"
      },
      "outputs": [],
      "source": [
        "# Data model\n",
        "class GradeDocuments(BaseModel):\n",
        "    \"\"\"Binary score for relevance check on retrieved documents.\"\"\"\n",
        "\n",
        "    binary_score: str = Field(\n",
        "        description=\"Documents are relevant to the question, 'yes' or 'no'\"\n",
        "    )"
      ]
    },
    {
      "cell_type": "code",
      "execution_count": 257,
      "metadata": {
        "id": "gXWSIIeTdl2S"
      },
      "outputs": [],
      "source": [
        "# LLM with function call\n",
        "structured_llm_grader = llm.with_structured_output(GradeDocuments)"
      ]
    },
    {
      "cell_type": "code",
      "execution_count": 258,
      "metadata": {
        "id": "qAC8nZ82dl2S"
      },
      "outputs": [],
      "source": [
        "# Prompt\n",
        "system = \"\"\"You are a grader assessing relevance of a retrieved document to a user question. \\n\n",
        "    If the document contains keyword(s) or semantic meaning related to the user question, grade it as relevant. \\n\n",
        "    It does not need to be a stringent test. The goal is to filter out erroneous retrievals. \\n\n",
        "    Give a binary score 'yes' or 'no' score to indicate whether the document is relevant to the question.\"\"\"\n",
        "grade_prompt = ChatPromptTemplate.from_messages(\n",
        "    [\n",
        "        (\"system\", system),\n",
        "        (\"human\", \"Retrieved document: \\n\\n {document} \\n\\n User question: {question}\"),\n",
        "    ]\n",
        ")"
      ]
    },
    {
      "cell_type": "code",
      "execution_count": 259,
      "metadata": {
        "colab": {
          "base_uri": "https://localhost:8080/"
        },
        "id": "QvZg5p6_dl2S",
        "outputId": "383df8ed-dd58-4f17-d937-298dd78ab14b"
      },
      "outputs": [
        {
          "output_type": "stream",
          "name": "stdout",
          "text": [
            "binary_score='yes'\n"
          ]
        }
      ],
      "source": [
        "retrieval_grader = grade_prompt | structured_llm_grader\n",
        "docs = retriever.invoke(question_doc)\n",
        "doc_txt = docs[1].page_content\n",
        "print(retrieval_grader.invoke({\"question\": question_doc, \"document\": doc_txt}))"
      ]
    },
    {
      "cell_type": "code",
      "execution_count": 260,
      "metadata": {
        "colab": {
          "base_uri": "https://localhost:8080/"
        },
        "id": "BOarj9SFdl2S",
        "outputId": "3b8fdb63-287c-47c6-84e8-e91b2add3559"
      },
      "outputs": [
        {
          "output_type": "execute_result",
          "data": {
            "text/plain": [
              "[Document(id='5acb44a7-8d77-4906-a1c2-a17135f81565', metadata={'description': \"Explore Jio Institute's artificial intelligence course offerings. Dive into the world of AI and data science with our cutting-edge programmes. Apply now!\", 'language': 'en', 'source': 'https://www.jioinstitute.edu.in/academics/artificial-intelligence-data-science', 'title': 'PGP in Artificial Intelligence & Data Science - Jio Institute'}, page_content='Jio Institute has formulated a seamless digital admissions process to apply to its academic programmes. We invite applications from meritorious students from accross the globe. Eligibility for PGP in Artificial Intelligence & Data Science :A four-year undergraduate degree or its equivalent, in the field of Engineering/Science/ Mathematics and Statistics with minimum 50 per cent or equivalent CGPA. A postgraduate degree (if the undergraduate degree is of three years) in the field of'),\n",
              " Document(id='6e39b860-3f9f-4db7-8c78-055b47268977', metadata={'description': \"Explore Jio Institute's artificial intelligence course offerings. Dive into the world of AI and data science with our cutting-edge programmes. Apply now!\", 'language': 'en', 'source': 'https://www.jioinstitute.edu.in/academics/artificial-intelligence-data-science', 'title': 'PGP in Artificial Intelligence & Data Science - Jio Institute'}, page_content='Jio Institute has formulated a seamless digital admissions process to apply to its academic programmes. We invite applications from meritorious students from accross the globe. Eligibility for PGP in Artificial Intelligence & Data Science :A four-year undergraduate degree or its equivalent, in the field of Engineering/Science/ Mathematics and Statistics with minimum 50 per cent or equivalent CGPA. A postgraduate degree (if the undergraduate degree is of three years) in the field of'),\n",
              " Document(id='cc208cdd-9040-4730-8360-cb6686046324', metadata={'description': \"Explore Jio Institute's artificial intelligence course offerings. Dive into the world of AI and data science with our cutting-edge programmes. Apply now!\", 'language': 'en', 'source': 'https://www.jioinstitute.edu.in/academics/artificial-intelligence-data-science', 'title': 'PGP in Artificial Intelligence & Data Science - Jio Institute'}, page_content='Jio Institute has formulated a seamless digital admissions process to apply to its academic programmes. We invite applications from meritorious students from accross the globe. Eligibility for PGP in Artificial Intelligence & Data Science :A four-year undergraduate degree or its equivalent, in the field of Engineering/Science/ Mathematics and Statistics with minimum 50 per cent or equivalent CGPA. A postgraduate degree (if the undergraduate degree is of three years) in the field of'),\n",
              " Document(id='a966fe2d-1892-45bb-b84a-8ab26469452e', metadata={'description': \"Explore Jio Institute's artificial intelligence course offerings. Dive into the world of AI and data science with our cutting-edge programmes. Apply now!\", 'language': 'en', 'source': 'https://www.jioinstitute.edu.in/academics/artificial-intelligence-data-science', 'title': 'PGP in Artificial Intelligence & Data Science - Jio Institute'}, page_content='PGP in Artificial Intelligence & Data Science\\n        \\n\\n\\n\\n\\n\\n\\n\\n\\n\\n\\n\\n\\n\\n\\n\\n\\n\\n\\n\\n\\n\\n\\n\\n\\n\\n\\n\\n\\n\\n\\n\\n\\n\\n\\n\\n\\n\\n\\n\\n\\n\\n\\n\\n\\nPGP in Artificial Intelligence & Data Science\\n\\nThis postgraduate programme has a comprehensive and rigorous curriculum that covers foundation and advanced courses to train future-ready full-stack data scientists and AI architects.\\xa0\\xa0Apply Now Download Brochure')]"
            ]
          },
          "metadata": {},
          "execution_count": 260
        }
      ],
      "source": [
        "docs"
      ]
    },
    {
      "cell_type": "markdown",
      "metadata": {
        "id": "aFo4ZUNVdl2T"
      },
      "source": [
        "### Generate"
      ]
    },
    {
      "cell_type": "code",
      "execution_count": 261,
      "metadata": {
        "id": "X8S8AdPqdl2T"
      },
      "outputs": [],
      "source": [
        "from langchain import hub\n",
        "from langchain_core.output_parsers import StrOutputParser"
      ]
    },
    {
      "cell_type": "code",
      "execution_count": 262,
      "metadata": {
        "colab": {
          "base_uri": "https://localhost:8080/"
        },
        "id": "kf-PdaFwdl2T",
        "outputId": "5806b5b3-8ef8-4f6f-9fb0-af1633dcaef0"
      },
      "outputs": [
        {
          "output_type": "stream",
          "name": "stderr",
          "text": [
            "/usr/local/lib/python3.11/dist-packages/langsmith/client.py:253: LangSmithMissingAPIKeyWarning: API key must be provided when using hosted LangSmith API\n",
            "  warnings.warn(\n"
          ]
        }
      ],
      "source": [
        "# Prompt\n",
        "prompt = hub.pull(\"rlm/rag-prompt\")"
      ]
    },
    {
      "cell_type": "code",
      "execution_count": 263,
      "metadata": {
        "colab": {
          "base_uri": "https://localhost:8080/"
        },
        "id": "UODcUaiUdl2T",
        "outputId": "a98118a8-20fb-4aca-ead3-0616c46f60e3"
      },
      "outputs": [
        {
          "output_type": "execute_result",
          "data": {
            "text/plain": [
              "ChatPromptTemplate(input_variables=['context', 'question'], input_types={}, partial_variables={}, metadata={'lc_hub_owner': 'rlm', 'lc_hub_repo': 'rag-prompt', 'lc_hub_commit_hash': '50442af133e61576e74536c6556cefe1fac147cad032f4377b60c436e6cdcb6e'}, messages=[HumanMessagePromptTemplate(prompt=PromptTemplate(input_variables=['context', 'question'], input_types={}, partial_variables={}, template=\"You are an assistant for question-answering tasks. Use the following pieces of retrieved context to answer the question. If you don't know the answer, just say that you don't know. Use three sentences maximum and keep the answer concise.\\nQuestion: {question} \\nContext: {context} \\nAnswer:\"), additional_kwargs={})])"
            ]
          },
          "metadata": {},
          "execution_count": 263
        }
      ],
      "source": [
        "prompt"
      ]
    },
    {
      "cell_type": "code",
      "execution_count": 264,
      "metadata": {
        "id": "uG5taTDOdl2T"
      },
      "outputs": [],
      "source": [
        "# Post-processing\n",
        "def format_docs(docs):\n",
        "    return \"\\n\\n\".join(doc.page_content for doc in docs)"
      ]
    },
    {
      "cell_type": "code",
      "execution_count": 265,
      "metadata": {
        "id": "4Mu3TvJfdl2T"
      },
      "outputs": [],
      "source": [
        "# Chain\n",
        "rag_chain = prompt | llm | StrOutputParser()"
      ]
    },
    {
      "cell_type": "code",
      "execution_count": 266,
      "metadata": {
        "colab": {
          "base_uri": "https://localhost:8080/"
        },
        "id": "cjN3UJJSdl2U",
        "outputId": "493249d5-fc2f-44e1-a276-cda80b1f5ffd"
      },
      "outputs": [
        {
          "output_type": "stream",
          "name": "stdout",
          "text": [
            "Unfortunately, the provided context does not mention the highlights of the PGP in Data Science and AI course at Jio Institute.\n"
          ]
        }
      ],
      "source": [
        "# Run\n",
        "generation = rag_chain.invoke({\"context\": docs, \"question\": question_doc})\n",
        "print(generation)"
      ]
    },
    {
      "cell_type": "markdown",
      "metadata": {
        "id": "zyPWTubEdl2U"
      },
      "source": [
        "### Hallucination Grader"
      ]
    },
    {
      "cell_type": "code",
      "execution_count": 267,
      "metadata": {
        "id": "9DfVBmr8dl2U"
      },
      "outputs": [],
      "source": [
        "# Data model\n",
        "class GradeHallucinations(BaseModel):\n",
        "    \"\"\"Binary score for hallucination present in generation answer.\"\"\"\n",
        "\n",
        "    binary_score: str = Field(\n",
        "        description=\"Answer is grounded in the facts, 'yes' or 'no'\"\n",
        "    )"
      ]
    },
    {
      "cell_type": "code",
      "execution_count": 268,
      "metadata": {
        "id": "iHUe0Ol8dl2U"
      },
      "outputs": [],
      "source": [
        "# LLM with function call\n",
        "structured_llm_grader = llm.with_structured_output(GradeHallucinations)"
      ]
    },
    {
      "cell_type": "code",
      "execution_count": 269,
      "metadata": {
        "id": "AX07AZTVdl2U"
      },
      "outputs": [],
      "source": [
        "# Prompt\n",
        "system = \"\"\"You are a grader assessing whether an LLM generation is grounded in / supported by a set of retrieved facts. \\n\n",
        "     Give a binary score 'yes' or 'no'. 'Yes' means that the answer is grounded in / supported by the set of facts.\"\"\"\n",
        "hallucination_prompt = ChatPromptTemplate.from_messages(\n",
        "    [\n",
        "        (\"system\", system),\n",
        "        (\"human\", \"Set of facts: \\n\\n {documents} \\n\\n LLM generation: {generation}\"),\n",
        "    ]\n",
        ")"
      ]
    },
    {
      "cell_type": "code",
      "execution_count": 270,
      "metadata": {
        "colab": {
          "base_uri": "https://localhost:8080/"
        },
        "id": "6cajPm7Wdl2U",
        "outputId": "faf1dd96-b1ec-4ff8-9e07-00efe7d17814"
      },
      "outputs": [
        {
          "output_type": "execute_result",
          "data": {
            "text/plain": [
              "GradeHallucinations(binary_score='no')"
            ]
          },
          "metadata": {},
          "execution_count": 270
        }
      ],
      "source": [
        "hallucination_grader = hallucination_prompt | structured_llm_grader\n",
        "hallucination_grader.invoke({\"documents\": docs, \"generation\": generation})"
      ]
    },
    {
      "cell_type": "code",
      "execution_count": 271,
      "metadata": {
        "colab": {
          "base_uri": "https://localhost:8080/"
        },
        "id": "yJrc-Xaldl2V",
        "outputId": "5d4dcf9d-05f5-474b-e43b-7d98ee9868de"
      },
      "outputs": [
        {
          "output_type": "execute_result",
          "data": {
            "text/plain": [
              "[Document(id='5acb44a7-8d77-4906-a1c2-a17135f81565', metadata={'description': \"Explore Jio Institute's artificial intelligence course offerings. Dive into the world of AI and data science with our cutting-edge programmes. Apply now!\", 'language': 'en', 'source': 'https://www.jioinstitute.edu.in/academics/artificial-intelligence-data-science', 'title': 'PGP in Artificial Intelligence & Data Science - Jio Institute'}, page_content='Jio Institute has formulated a seamless digital admissions process to apply to its academic programmes. We invite applications from meritorious students from accross the globe. Eligibility for PGP in Artificial Intelligence & Data Science :A four-year undergraduate degree or its equivalent, in the field of Engineering/Science/ Mathematics and Statistics with minimum 50 per cent or equivalent CGPA. A postgraduate degree (if the undergraduate degree is of three years) in the field of'),\n",
              " Document(id='6e39b860-3f9f-4db7-8c78-055b47268977', metadata={'description': \"Explore Jio Institute's artificial intelligence course offerings. Dive into the world of AI and data science with our cutting-edge programmes. Apply now!\", 'language': 'en', 'source': 'https://www.jioinstitute.edu.in/academics/artificial-intelligence-data-science', 'title': 'PGP in Artificial Intelligence & Data Science - Jio Institute'}, page_content='Jio Institute has formulated a seamless digital admissions process to apply to its academic programmes. We invite applications from meritorious students from accross the globe. Eligibility for PGP in Artificial Intelligence & Data Science :A four-year undergraduate degree or its equivalent, in the field of Engineering/Science/ Mathematics and Statistics with minimum 50 per cent or equivalent CGPA. A postgraduate degree (if the undergraduate degree is of three years) in the field of'),\n",
              " Document(id='cc208cdd-9040-4730-8360-cb6686046324', metadata={'description': \"Explore Jio Institute's artificial intelligence course offerings. Dive into the world of AI and data science with our cutting-edge programmes. Apply now!\", 'language': 'en', 'source': 'https://www.jioinstitute.edu.in/academics/artificial-intelligence-data-science', 'title': 'PGP in Artificial Intelligence & Data Science - Jio Institute'}, page_content='Jio Institute has formulated a seamless digital admissions process to apply to its academic programmes. We invite applications from meritorious students from accross the globe. Eligibility for PGP in Artificial Intelligence & Data Science :A four-year undergraduate degree or its equivalent, in the field of Engineering/Science/ Mathematics and Statistics with minimum 50 per cent or equivalent CGPA. A postgraduate degree (if the undergraduate degree is of three years) in the field of'),\n",
              " Document(id='a966fe2d-1892-45bb-b84a-8ab26469452e', metadata={'description': \"Explore Jio Institute's artificial intelligence course offerings. Dive into the world of AI and data science with our cutting-edge programmes. Apply now!\", 'language': 'en', 'source': 'https://www.jioinstitute.edu.in/academics/artificial-intelligence-data-science', 'title': 'PGP in Artificial Intelligence & Data Science - Jio Institute'}, page_content='PGP in Artificial Intelligence & Data Science\\n        \\n\\n\\n\\n\\n\\n\\n\\n\\n\\n\\n\\n\\n\\n\\n\\n\\n\\n\\n\\n\\n\\n\\n\\n\\n\\n\\n\\n\\n\\n\\n\\n\\n\\n\\n\\n\\n\\n\\n\\n\\n\\n\\n\\n\\nPGP in Artificial Intelligence & Data Science\\n\\nThis postgraduate programme has a comprehensive and rigorous curriculum that covers foundation and advanced courses to train future-ready full-stack data scientists and AI architects.\\xa0\\xa0Apply Now Download Brochure')]"
            ]
          },
          "metadata": {},
          "execution_count": 271
        }
      ],
      "source": [
        "docs"
      ]
    },
    {
      "cell_type": "code",
      "execution_count": 272,
      "metadata": {
        "colab": {
          "base_uri": "https://localhost:8080/",
          "height": 35
        },
        "id": "Y98wwSVXdl2V",
        "outputId": "c537addd-2341-4f8f-b507-2908e29939fb"
      },
      "outputs": [
        {
          "output_type": "execute_result",
          "data": {
            "text/plain": [
              "'Unfortunately, the provided context does not mention the highlights of the PGP in Data Science and AI course at Jio Institute.'"
            ],
            "application/vnd.google.colaboratory.intrinsic+json": {
              "type": "string"
            }
          },
          "metadata": {},
          "execution_count": 272
        }
      ],
      "source": [
        "generation"
      ]
    },
    {
      "cell_type": "markdown",
      "metadata": {
        "id": "AWpUl6Xddl2V"
      },
      "source": [
        "### Answer Grader"
      ]
    },
    {
      "cell_type": "code",
      "execution_count": 273,
      "metadata": {
        "id": "22gxyQUOdl2V"
      },
      "outputs": [],
      "source": [
        "# Data model\n",
        "class GradeAnswer(BaseModel):\n",
        "    \"\"\"Binary score to assess answer addresses question.\"\"\"\n",
        "\n",
        "    binary_score: str = Field(\n",
        "        description=\"Answer addresses the question, 'yes' or 'no'\"\n",
        "    )"
      ]
    },
    {
      "cell_type": "code",
      "execution_count": 274,
      "metadata": {
        "id": "zUtZUpqqdl2V"
      },
      "outputs": [],
      "source": [
        "# LLM with function call\n",
        "structured_llm_grader = llm.with_structured_output(GradeAnswer)"
      ]
    },
    {
      "cell_type": "code",
      "execution_count": 275,
      "metadata": {
        "id": "RIk8c7J8dl2V"
      },
      "outputs": [],
      "source": [
        "# Prompt\n",
        "system = \"\"\"You are a grader assessing whether an answer addresses / resolves a question \\n\n",
        "     Give a binary score 'yes' or 'no'. Yes' means that the answer resolves the question.\"\"\"\n",
        "answer_prompt = ChatPromptTemplate.from_messages(\n",
        "    [\n",
        "        (\"system\", system),\n",
        "        (\"human\", \"User question: \\n\\n {question} \\n\\n LLM generation: {generation}\"),\n",
        "    ]\n",
        ")"
      ]
    },
    {
      "cell_type": "code",
      "execution_count": 276,
      "metadata": {
        "colab": {
          "base_uri": "https://localhost:8080/"
        },
        "id": "_2QGq52wdl2V",
        "outputId": "a34ed6b2-a39d-41b9-dd9f-b014aa75adcd"
      },
      "outputs": [
        {
          "output_type": "execute_result",
          "data": {
            "text/plain": [
              "GradeAnswer(binary_score='no')"
            ]
          },
          "metadata": {},
          "execution_count": 276
        }
      ],
      "source": [
        "answer_grader = answer_prompt | structured_llm_grader\n",
        "answer_grader.invoke({\"question\": question_doc, \"generation\": generation})"
      ]
    },
    {
      "cell_type": "code",
      "execution_count": 277,
      "metadata": {
        "colab": {
          "base_uri": "https://localhost:8080/"
        },
        "id": "Qh6UBeJpdl2V",
        "outputId": "b08fa807-02b5-4c59-9790-9a32f3eb2a89"
      },
      "outputs": [
        {
          "output_type": "stream",
          "name": "stdout",
          "text": [
            "What are the highlights of the PGP in Data Science and AI course at Jio Institute \n",
            "\n",
            " Unfortunately, the provided context does not mention the highlights of the PGP in Data Science and AI course at Jio Institute.\n"
          ]
        }
      ],
      "source": [
        "print(question_doc, \"\\n\\n\", generation)"
      ]
    },
    {
      "cell_type": "markdown",
      "metadata": {
        "id": "bb8xdnjvdl2W"
      },
      "source": [
        "### Question Re-writer"
      ]
    },
    {
      "cell_type": "code",
      "execution_count": 278,
      "metadata": {
        "id": "5X8nSDYjdl2W"
      },
      "outputs": [],
      "source": [
        "# Prompt\n",
        "system = \"\"\"You are a question re-writer that converts an input question to a better version that is optimized \\n\n",
        "     for vectorstore retrieval. Look at the input and try to reason about the underlying semantic intent / meaning. \\n\n",
        "     Only return the rewritten question and nothing else.\"\"\"\n",
        "re_write_prompt = ChatPromptTemplate.from_messages(\n",
        "    [\n",
        "        (\"system\", system),\n",
        "        (\n",
        "            \"human\",\n",
        "            \"Here is the initial question: \\n\\n {question} \\n Formulate an improved question.\",\n",
        "        ),\n",
        "    ]\n",
        ")"
      ]
    },
    {
      "cell_type": "code",
      "execution_count": 279,
      "metadata": {
        "colab": {
          "base_uri": "https://localhost:8080/",
          "height": 35
        },
        "id": "9nfJ9GqMdl2W",
        "outputId": "f8fbccc0-992d-45a8-ad26-63166250752f"
      },
      "outputs": [
        {
          "output_type": "execute_result",
          "data": {
            "text/plain": [
              "'What are the highlights of the PGP in Data Science and AI course at Jio Institute'"
            ],
            "application/vnd.google.colaboratory.intrinsic+json": {
              "type": "string"
            }
          },
          "metadata": {},
          "execution_count": 279
        }
      ],
      "source": [
        "question_doc"
      ]
    },
    {
      "cell_type": "code",
      "execution_count": 280,
      "metadata": {
        "colab": {
          "base_uri": "https://localhost:8080/",
          "height": 35
        },
        "id": "bnLfyNEEdl2W",
        "outputId": "eeddc09d-89c3-4094-d7fc-4c69d4d132e8"
      },
      "outputs": [
        {
          "output_type": "execute_result",
          "data": {
            "text/plain": [
              "'What is the course details and key takeaways of PGP in Data Science and AI at Jio Institute?'"
            ],
            "application/vnd.google.colaboratory.intrinsic+json": {
              "type": "string"
            }
          },
          "metadata": {},
          "execution_count": 280
        }
      ],
      "source": [
        "question_rewriter = re_write_prompt | llm | StrOutputParser()\n",
        "question_rewriter.invoke({\"question\": question_doc})"
      ]
    },
    {
      "cell_type": "markdown",
      "metadata": {
        "id": "KqvDcFbudl2W"
      },
      "source": [
        "## Tools"
      ]
    },
    {
      "cell_type": "markdown",
      "metadata": {
        "id": "oU-XsfVodl2X"
      },
      "source": [
        "### Search Tool"
      ]
    },
    {
      "cell_type": "code",
      "execution_count": 281,
      "metadata": {
        "id": "Jc_0LMn_dl2X"
      },
      "outputs": [],
      "source": [
        "from langchain_community.tools.tavily_search import TavilySearchResults\n",
        "\n",
        "web_search_tool = TavilySearchResults(k=3)"
      ]
    },
    {
      "cell_type": "markdown",
      "metadata": {
        "id": "zcMtVmo0dl2X"
      },
      "source": [
        "## Construct the Graph"
      ]
    },
    {
      "cell_type": "markdown",
      "metadata": {
        "jp-MarkdownHeadingCollapsed": true,
        "id": "eJpBzDqNdl2X"
      },
      "source": [
        "Capture the flow in as a graph."
      ]
    },
    {
      "cell_type": "markdown",
      "metadata": {
        "id": "rG0jpdDrdl2X"
      },
      "source": [
        "### Define Graph State"
      ]
    },
    {
      "cell_type": "markdown",
      "metadata": {
        "id": "3ZoTB2Mwdl2X"
      },
      "source": [
        "We will define a graph.\n",
        "\n",
        "A `state` object that it passes around to each node.\n",
        "\n",
        "Our state will have 3 attributes - `question`, `generation` and `documents`.\n",
        "\n",
        "Each node in our graph will update to it."
      ]
    },
    {
      "cell_type": "code",
      "execution_count": 282,
      "metadata": {
        "id": "ZVlE5OxYdl2X"
      },
      "outputs": [],
      "source": [
        "from typing import List\n",
        "\n",
        "from typing_extensions import TypedDict\n",
        "\n",
        "\n",
        "class GraphState(TypedDict):\n",
        "    \"\"\"\n",
        "    Represents the state of our graph.\n",
        "\n",
        "    Attributes:\n",
        "        question: question\n",
        "        generation: LLM generation\n",
        "        documents: list of documents\n",
        "    \"\"\"\n",
        "\n",
        "    question: str\n",
        "    generation: str\n",
        "    documents: List[str]"
      ]
    },
    {
      "cell_type": "markdown",
      "metadata": {
        "id": "tF_BySLndl2Y"
      },
      "source": [
        "### Define Graph Flow"
      ]
    },
    {
      "cell_type": "markdown",
      "metadata": {
        "id": "MlIyQ1Uidl2Y"
      },
      "source": [
        "We can lay out an agentic RAG graph like this:\n",
        "\n",
        "* The state has a set of attributes\n",
        "* Each node will update the state\n",
        "* Conditional edges decide which node to visit next"
      ]
    },
    {
      "cell_type": "markdown",
      "metadata": {
        "id": "7arAz0OLdl2Y"
      },
      "source": [
        "#### Nodes"
      ]
    },
    {
      "cell_type": "code",
      "execution_count": 283,
      "metadata": {
        "id": "DykyXNtedl2Y"
      },
      "outputs": [],
      "source": [
        "from langchain.schema import Document"
      ]
    },
    {
      "cell_type": "code",
      "execution_count": 284,
      "metadata": {
        "id": "EUfsaDzbdl2Y"
      },
      "outputs": [],
      "source": [
        "def retrieve(state):\n",
        "    \"\"\"\n",
        "    Retrieve documents\n",
        "\n",
        "    Args:\n",
        "        state (dict): The current graph state\n",
        "\n",
        "    Returns:\n",
        "        state (dict): New key added to state, documents, that contains retrieved documents\n",
        "    \"\"\"\n",
        "    print(\"---RETRIEVE---\")\n",
        "    question = state[\"question\"]\n",
        "\n",
        "    # Retrieval\n",
        "    documents = retriever.invoke(question)\n",
        "    return {\"documents\": documents, \"question\": question}"
      ]
    },
    {
      "cell_type": "code",
      "execution_count": 285,
      "metadata": {
        "id": "suCTMY1sdl2Z"
      },
      "outputs": [],
      "source": [
        "def generate(state):\n",
        "    \"\"\"\n",
        "    Generate answer\n",
        "\n",
        "    Args:\n",
        "        state (dict): The current graph state\n",
        "\n",
        "    Returns:\n",
        "        state (dict): New key added to state, generation, that contains LLM generation\n",
        "    \"\"\"\n",
        "    print(\"---GENERATE---\")\n",
        "    question = state[\"question\"]\n",
        "    documents = state[\"documents\"]\n",
        "\n",
        "    # RAG generation\n",
        "    generation = rag_chain.invoke({\"context\": documents, \"question\": question})\n",
        "    return {\"documents\": documents, \"question\": question, \"generation\": generation}"
      ]
    },
    {
      "cell_type": "code",
      "execution_count": 286,
      "metadata": {
        "id": "S7MJRzNhdl2Z"
      },
      "outputs": [],
      "source": [
        "def grade_documents(state):\n",
        "    \"\"\"\n",
        "    Determines whether the retrieved documents are relevant to the question.\n",
        "\n",
        "    Args:\n",
        "        state (dict): The current graph state\n",
        "\n",
        "    Returns:\n",
        "        state (dict): Updates documents key with only filtered relevant documents\n",
        "    \"\"\"\n",
        "\n",
        "    print(\"---CHECK DOCUMENT RELEVANCE TO QUESTION---\")\n",
        "    question = state[\"question\"]\n",
        "    documents = state[\"documents\"]\n",
        "\n",
        "    # Score each doc\n",
        "    filtered_docs = []\n",
        "    for d in documents:\n",
        "        score = retrieval_grader.invoke(\n",
        "            {\"question\": question, \"document\": d.page_content}\n",
        "        )\n",
        "        grade = score.binary_score\n",
        "        if grade == \"yes\":\n",
        "            print(\"---GRADE: DOCUMENT RELEVANT---\")\n",
        "            filtered_docs.append(d)\n",
        "        else:\n",
        "            print(\"---GRADE: DOCUMENT NOT RELEVANT---\")\n",
        "            continue\n",
        "    return {\"documents\": filtered_docs, \"question\": question}"
      ]
    },
    {
      "cell_type": "code",
      "execution_count": 287,
      "metadata": {
        "colab": {
          "base_uri": "https://localhost:8080/"
        },
        "id": "6EvCdrYVdl2Z",
        "outputId": "df255805-ddf2-4efe-adb1-cbdf73989e16"
      },
      "outputs": [
        {
          "output_type": "execute_result",
          "data": {
            "text/plain": [
              "ChatPromptTemplate(input_variables=['question'], input_types={}, partial_variables={}, messages=[SystemMessagePromptTemplate(prompt=PromptTemplate(input_variables=[], input_types={}, partial_variables={}, template='You are a question re-writer that converts an input question to a better version that is optimized \\n \\n     for vectorstore retrieval. Look at the input and try to reason about the underlying semantic intent / meaning. \\n \\n     Only return the rewritten question and nothing else.'), additional_kwargs={}), HumanMessagePromptTemplate(prompt=PromptTemplate(input_variables=['question'], input_types={}, partial_variables={}, template='Here is the initial question: \\n\\n {question} \\n Formulate an improved question.'), additional_kwargs={})])\n",
              "| ChatGroq(client=<groq.resources.chat.completions.Completions object at 0x7ba7d814ce50>, async_client=<groq.resources.chat.completions.AsyncCompletions object at 0x7ba7d80e8150>, model_name='llama-3.1-8b-instant', model_kwargs={}, groq_api_key=SecretStr('**********'))\n",
              "| StrOutputParser()"
            ]
          },
          "metadata": {},
          "execution_count": 287
        }
      ],
      "source": [
        "question_rewriter"
      ]
    },
    {
      "cell_type": "code",
      "execution_count": 288,
      "metadata": {
        "id": "s7HMy_iadl2Z"
      },
      "outputs": [],
      "source": [
        "def transform_query(state):\n",
        "    \"\"\"\n",
        "    Transform the query to produce a better question.\n",
        "\n",
        "    Args:\n",
        "        state (dict): The current graph state\n",
        "\n",
        "    Returns:\n",
        "        state (dict): Updates question key with a re-phrased question\n",
        "    \"\"\"\n",
        "\n",
        "    print(\"---TRANSFORM QUERY---\")\n",
        "    question = state[\"question\"]\n",
        "    documents = state[\"documents\"]\n",
        "\n",
        "    # Re-write question\n",
        "    better_question = question_rewriter.invoke({\"question\": question})\n",
        "    return {\"documents\": documents, \"question\": better_question}"
      ]
    },
    {
      "cell_type": "code",
      "execution_count": 289,
      "metadata": {
        "id": "RPRrOS7udl2a"
      },
      "outputs": [],
      "source": [
        "def web_search(state):\n",
        "    \"\"\"\n",
        "    Web search based on the re-phrased question.\n",
        "\n",
        "    Args:\n",
        "        state (dict): The current graph state\n",
        "\n",
        "    Returns:\n",
        "        state (dict): Updates documents key with appended web results\n",
        "    \"\"\"\n",
        "\n",
        "    print(\"---WEB SEARCH---\")\n",
        "    question = state[\"question\"]\n",
        "\n",
        "    # Web search\n",
        "    docs = web_search_tool.invoke({\"query\": question})\n",
        "    web_results = \"\\n\".join([d[\"content\"] for d in docs])\n",
        "    web_results = Document(page_content=web_results)\n",
        "\n",
        "    #Condition for Adaptive RAG, that has a flow of web search without a retrieval step first\n",
        "    if \"documents\" in state.keys():\n",
        "        documents = state[\"documents\"]\n",
        "        documents.append(web_results)\n",
        "        return {\"documents\": documents, \"question\": question}\n",
        "\n",
        "    else:\n",
        "        return {\"documents\": web_results, \"question\": question}"
      ]
    },
    {
      "cell_type": "markdown",
      "metadata": {
        "id": "JYnj9xrZdl2a"
      },
      "source": [
        "#### Edges"
      ]
    },
    {
      "cell_type": "code",
      "execution_count": 290,
      "metadata": {
        "id": "8TQVOmovdl2a"
      },
      "outputs": [],
      "source": [
        "def route_question(state):\n",
        "    \"\"\"\n",
        "    Route question to web search or RAG.\n",
        "\n",
        "    Args:\n",
        "        state (dict): The current graph state\n",
        "\n",
        "    Returns:\n",
        "        str: Next node to call\n",
        "    \"\"\"\n",
        "\n",
        "    print(\"---ROUTE QUESTION---\")\n",
        "    question = state[\"question\"]\n",
        "    source = question_router.invoke({\"question\": question})\n",
        "    # return source.datasource\n",
        "\n",
        "    if source.datasource == \"wikipedia\":\n",
        "        print(\"---ROUTE QUESTION TO WIKIPEDIA---\")\n",
        "        return \"wikipedia\"\n",
        "    elif source.datasource == \"web_search\":\n",
        "        print(\"---ROUTE QUESTION TO WEB SEARCH---\")\n",
        "        return \"web_search\"\n",
        "    elif source.datasource == \"vectorstore\":\n",
        "        print(\"---ROUTE QUESTION TO RAG---\")\n",
        "        return \"vectorstore\""
      ]
    },
    {
      "cell_type": "code",
      "execution_count": 291,
      "metadata": {
        "id": "Uu_CgFTpdl2a"
      },
      "outputs": [],
      "source": [
        "def decide_to_generate(state):\n",
        "    \"\"\"\n",
        "    Determines whether to generate an answer, or re-generate a question.\n",
        "\n",
        "    Args:\n",
        "        state (dict): The current graph state\n",
        "\n",
        "    Returns:\n",
        "        str: Binary decision for next node to call\n",
        "    \"\"\"\n",
        "\n",
        "    print(\"---ASSESS GRADED DOCUMENTS---\")\n",
        "    state[\"question\"]\n",
        "    filtered_documents = state[\"documents\"]\n",
        "\n",
        "    if not filtered_documents:\n",
        "        # All documents have been filtered check_relevance\n",
        "        # We will re-generate a new query\n",
        "        print(\n",
        "            \"---DECISION: ALL DOCUMENTS ARE NOT RELEVANT TO QUESTION, TRANSFORM QUERY---\"\n",
        "        )\n",
        "        return \"transform_query\"\n",
        "    else:\n",
        "        # We have relevant documents, so generate answer\n",
        "        print(\"---DECISION: GENERATE---\")\n",
        "        return \"generate\""
      ]
    },
    {
      "cell_type": "code",
      "execution_count": 292,
      "metadata": {
        "id": "qklK0WFYdl2a"
      },
      "outputs": [],
      "source": [
        "def grade_generation_v_documents_and_question(state):\n",
        "    \"\"\"\n",
        "    Determines whether the generation is grounded in the document and answers question.\n",
        "\n",
        "    Args:\n",
        "        state (dict): The current graph state\n",
        "\n",
        "    Returns:\n",
        "        str: Decision for next node to call\n",
        "    \"\"\"\n",
        "\n",
        "    print(\"---CHECK HALLUCINATIONS---\")\n",
        "    question = state[\"question\"]\n",
        "    documents = state[\"documents\"]\n",
        "    generation = state[\"generation\"]\n",
        "\n",
        "    score = hallucination_grader.invoke(\n",
        "        {\"documents\": documents, \"generation\": generation}\n",
        "    )\n",
        "    grade = score.binary_score\n",
        "\n",
        "    # Check hallucination\n",
        "    if grade == \"yes\":\n",
        "        print(\"---DECISION: GENERATION IS GROUNDED IN DOCUMENTS---\")\n",
        "        # Check question-answering\n",
        "        print(\"---GRADE GENERATION vs QUESTION---\")\n",
        "        score = answer_grader.invoke({\"question\": question, \"generation\": generation})\n",
        "        grade = score.binary_score\n",
        "        if grade == \"yes\":\n",
        "            print(\"---DECISION: GENERATION ADDRESSES QUESTION---\")\n",
        "            return \"useful\"\n",
        "        else:\n",
        "            print(\"---DECISION: GENERATION DOES NOT ADDRESS QUESTION---\")\n",
        "            return \"not useful\"\n",
        "    else:\n",
        "        pprint(\"---DECISION: GENERATION IS NOT GROUNDED IN DOCUMENTS, RE-TRY---\")\n",
        "        return \"not supported\""
      ]
    },
    {
      "cell_type": "markdown",
      "metadata": {
        "id": "jtkrCvsBdl2a"
      },
      "source": [
        "### Compile Graph"
      ]
    },
    {
      "cell_type": "markdown",
      "metadata": {
        "id": "XbxlwxArdl2b"
      },
      "source": [
        "All these flows are different kinds of **Self-Reflective RAG**, and Adaptive RAG has an additional flow of **Query Analysis**."
      ]
    },
    {
      "cell_type": "markdown",
      "metadata": {
        "id": "I7cHD1asdl2b"
      },
      "source": [
        "#### Flow 1 - Corrective RAG"
      ]
    },
    {
      "cell_type": "markdown",
      "metadata": {
        "id": "jmu2_S5ydl2b"
      },
      "source": [
        "![image.png](attachment:154f6f10-663f-4395-ae9d-ce17ffbac87b.png)\n",
        "[Reference here](https://langchain-ai.github.io/langgraph/tutorials/rag/langgraph_crag/)"
      ]
    },
    {
      "cell_type": "code",
      "source": [
        "# !pip install langgraph"
      ],
      "metadata": {
        "id": "2afZDPBViqfJ"
      },
      "execution_count": 293,
      "outputs": []
    },
    {
      "cell_type": "code",
      "execution_count": 294,
      "metadata": {
        "id": "w0AtkS0ydl2b"
      },
      "outputs": [],
      "source": [
        "from langgraph.graph import END, StateGraph, START\n",
        "\n",
        "workflow = StateGraph(GraphState)\n",
        "\n",
        "# Define the nodes\n",
        "workflow.add_node(\"retrieve\", retrieve)  # retrieve\n",
        "workflow.add_node(\"grade_documents\", grade_documents)  # grade documents\n",
        "workflow.add_node(\"generate\", generate)  # generatae\n",
        "workflow.add_node(\"transform_query\", transform_query)  # transform_query\n",
        "workflow.add_node(\"web_search\", web_search)  # web search\n",
        "\n",
        "# Build graph\n",
        "workflow.add_edge(START, \"retrieve\")\n",
        "workflow.add_edge(\"retrieve\", \"grade_documents\")\n",
        "workflow.add_conditional_edges(\n",
        "    \"grade_documents\",\n",
        "    decide_to_generate,\n",
        "    {\n",
        "        \"transform_query\": \"transform_query\",\n",
        "        \"generate\": \"generate\",\n",
        "    },\n",
        ")\n",
        "workflow.add_edge(\"transform_query\", \"web_search\")\n",
        "workflow.add_edge(\"web_search\", \"generate\")\n",
        "workflow.add_edge(\"generate\", END)\n",
        "\n",
        "# Compile\n",
        "graph_1_crag = workflow.compile()"
      ]
    },
    {
      "cell_type": "code",
      "execution_count": 295,
      "metadata": {
        "colab": {
          "base_uri": "https://localhost:8080/",
          "height": 647
        },
        "id": "c_LfLo-idl2b",
        "outputId": "21ea81b0-6d66-4eba-8682-0ee41675bd46"
      },
      "outputs": [
        {
          "output_type": "display_data",
          "data": {
            "image/png": "[encoded data removed]",
            "text/plain": [
              "<IPython.core.display.Image object>"
            ]
          },
          "metadata": {}
        }
      ],
      "source": [
        "from IPython.display import Image, display\n",
        "\n",
        "try:\n",
        "    display(Image(graph_1_crag.get_graph(xray=True).draw_mermaid_png()))\n",
        "except Exception:\n",
        "    # This requires some extra dependencies and is optional\n",
        "    pass"
      ]
    },
    {
      "cell_type": "markdown",
      "metadata": {
        "id": "BZfiMdoBdl2b"
      },
      "source": [
        "#### Flow 2 - Self-RAG"
      ]
    },
    {
      "cell_type": "markdown",
      "metadata": {
        "id": "f7C4fD3fdl2b"
      },
      "source": [
        "![image.png](attachment:fef27379-03c6-4085-826f-33d3c2070557.png)\n",
        "[Reference here](https://langchain-ai.github.io/langgraph/tutorials/rag/langgraph_self_rag/)"
      ]
    },
    {
      "cell_type": "code",
      "execution_count": 296,
      "metadata": {
        "id": "ZJuQP-Aydl2c"
      },
      "outputs": [],
      "source": [
        "from langgraph.graph import END, StateGraph, START\n",
        "\n",
        "workflow = StateGraph(GraphState)\n",
        "\n",
        "# Define the nodes\n",
        "workflow.add_node(\"retrieve\", retrieve)  # retrieve\n",
        "workflow.add_node(\"grade_documents\", grade_documents)  # grade documents\n",
        "workflow.add_node(\"generate\", generate)  # generatae\n",
        "workflow.add_node(\"transform_query\", transform_query)  # transform_query\n",
        "\n",
        "# Build graph\n",
        "workflow.add_edge(START, \"retrieve\")\n",
        "workflow.add_edge(\"retrieve\", \"grade_documents\")\n",
        "workflow.add_conditional_edges(\n",
        "    \"grade_documents\",\n",
        "    decide_to_generate,\n",
        "    {\n",
        "        \"transform_query\": \"transform_query\",\n",
        "        \"generate\": \"generate\",\n",
        "    },\n",
        ")\n",
        "workflow.add_edge(\"transform_query\", \"retrieve\")\n",
        "workflow.add_conditional_edges(\n",
        "    \"generate\",\n",
        "    grade_generation_v_documents_and_question,\n",
        "    {\n",
        "        \"not supported\": \"generate\",\n",
        "        \"useful\": END,\n",
        "        \"not useful\": \"transform_query\",\n",
        "    },\n",
        ")\n",
        "\n",
        "# Compile\n",
        "graph_2_selfrag = workflow.compile()"
      ]
    },
    {
      "cell_type": "code",
      "execution_count": 297,
      "metadata": {
        "colab": {
          "base_uri": "https://localhost:8080/",
          "height": 562
        },
        "id": "-UBbLmPXdl2c",
        "outputId": "c4cd21d0-db0f-4fec-df58-30a4a796168d"
      },
      "outputs": [
        {
          "output_type": "display_data",
          "data": {
            "image/png": "[encoded data removed]",
            "text/plain": [
              "<IPython.core.display.Image object>"
            ]
          },
          "metadata": {}
        }
      ],
      "source": [
        "from IPython.display import Image, display\n",
        "\n",
        "try:\n",
        "    display(Image(graph_2_selfrag.get_graph(xray=True).draw_mermaid_png()))\n",
        "except Exception:\n",
        "    # This requires some extra dependencies and is optional\n",
        "    pass"
      ]
    },
    {
      "cell_type": "markdown",
      "metadata": {
        "id": "N3TwlpeXdl2c"
      },
      "source": [
        "#### Flow 3 - Corrective RAG (custom) = Corrective RAG + Hallucination + Answer Relevance Checker"
      ]
    },
    {
      "cell_type": "code",
      "execution_count": 298,
      "metadata": {
        "id": "2vg6-3Tcdl2c"
      },
      "outputs": [],
      "source": [
        "from langgraph.graph import END, StateGraph, START\n",
        "\n",
        "workflow = StateGraph(GraphState)\n",
        "\n",
        "# Define the nodes\n",
        "workflow.add_node(\"retrieve\", retrieve)  # retrieve\n",
        "workflow.add_node(\"grade_documents\", grade_documents)  # grade documents\n",
        "workflow.add_node(\"generate\", generate)  # generatae\n",
        "workflow.add_node(\"transform_query\", transform_query)  # transform_query\n",
        "workflow.add_node(\"web_search\", web_search)  # web search\n",
        "\n",
        "# Build graph\n",
        "workflow.add_edge(START, \"retrieve\")\n",
        "workflow.add_edge(\"retrieve\", \"grade_documents\")\n",
        "workflow.add_conditional_edges(\n",
        "    \"grade_documents\",\n",
        "    decide_to_generate,\n",
        "    {\n",
        "        \"transform_query\": \"transform_query\",\n",
        "        \"generate\": \"generate\",\n",
        "    },\n",
        ")\n",
        "workflow.add_edge(\"transform_query\", \"web_search\")\n",
        "workflow.add_edge(\"web_search\", \"generate\")\n",
        "workflow.add_conditional_edges(\n",
        "    \"generate\",\n",
        "    grade_generation_v_documents_and_question,\n",
        "    {\n",
        "        \"not supported\": \"generate\",\n",
        "        \"useful\": END,\n",
        "        \"not useful\": \"transform_query\",\n",
        "    },\n",
        ")\n",
        "\n",
        "# Compile\n",
        "graph_3_crag_custom = workflow.compile()"
      ]
    },
    {
      "cell_type": "code",
      "execution_count": 299,
      "metadata": {
        "colab": {
          "base_uri": "https://localhost:8080/",
          "height": 745
        },
        "id": "jCPkDJkvdl2c",
        "outputId": "d6785c36-e01a-4c50-ca81-291b225c2940"
      },
      "outputs": [
        {
          "output_type": "display_data",
          "data": {
            "image/png": "[encoded data removed]",
            "text/plain": [
              "<IPython.core.display.Image object>"
            ]
          },
          "metadata": {}
        }
      ],
      "source": [
        "from IPython.display import Image, display\n",
        "\n",
        "try:\n",
        "    display(Image(graph_3_crag_custom.get_graph(xray=True).draw_mermaid_png()))\n",
        "except Exception:\n",
        "    # This requires some extra dependencies and is optional\n",
        "    pass"
      ]
    },
    {
      "cell_type": "markdown",
      "metadata": {
        "id": "IMok-5sHdl2c"
      },
      "source": [
        "#### Flow 4 - Adaptive RAG = Self-RAG + Query Analysis"
      ]
    },
    {
      "cell_type": "markdown",
      "metadata": {
        "id": "uLiVWJLKdl2d"
      },
      "source": [
        "![image.png](attachment:9079738e-a1ed-4534-bf04-f8d48817dd14.png)\n",
        "[Reference here](https://python.langchain.com/v0.1/docs/use_cases/query_analysis/)"
      ]
    },
    {
      "cell_type": "markdown",
      "metadata": {
        "id": "OiqsQE4Udl2d"
      },
      "source": [
        "![image.png](attachment:667874de-699e-4766-b8d9-66da8ac82645.png)\n",
        "[Reference here](https://langchain-ai.github.io/langgraph/tutorials/rag/langgraph_adaptive_rag/)"
      ]
    },
    {
      "cell_type": "code",
      "source": [
        "# !pip install wikipedia"
      ],
      "metadata": {
        "id": "Fg5I_mB0i3AE"
      },
      "execution_count": 300,
      "outputs": []
    },
    {
      "cell_type": "code",
      "execution_count": 301,
      "metadata": {
        "id": "afjWI3H_dl2d"
      },
      "outputs": [],
      "source": [
        "from langchain.tools import WikipediaQueryRun\n",
        "from langchain.utilities import WikipediaAPIWrapper\n",
        "from langgraph.graph import END, StateGraph, START\n",
        "\n",
        "# Initialize Wikipedia tool\n",
        "wiki_api_wrapper = WikipediaAPIWrapper()\n",
        "wikipedia_tool = WikipediaQueryRun(api_wrapper=wiki_api_wrapper)\n",
        "\n",
        "# 🚀 **Recreate the Workflow from Scratch**\n",
        "workflow = StateGraph(GraphState)\n",
        "\n",
        "# Define the nodes again\n",
        "workflow.add_node(\"web_search\", web_search)\n",
        "workflow.add_node(\"retrieve\", retrieve)\n",
        "workflow.add_node(\"grade_documents\", grade_documents)\n",
        "workflow.add_node(\"generate\", generate)\n",
        "workflow.add_node(\"transform_query\", transform_query)\n",
        "\n",
        "# ✅ **Add Wikipedia node**\n",
        "workflow.add_node(\"wikipedia_search\", lambda x: wikipedia_tool.run(x[\"query\"]))\n",
        "\n",
        "# ✅ **Re-add routing with Wikipedia included**\n",
        "workflow.add_conditional_edges(\n",
        "    START,\n",
        "    route_question,\n",
        "    {\n",
        "        \"web_search\": \"web_search\",\n",
        "        \"vectorstore\": \"retrieve\",\n",
        "        \"wikipedia\": \"wikipedia_search\",  # New Wikipedia path\n",
        "    },\n",
        ")\n",
        "\n",
        "# ✅ **Ensure Wikipedia search leads to END**\n",
        "workflow.add_edge(\"wikipedia_search\", END)  # Stops after Wikipedia search\n",
        "\n",
        "# Other paths\n",
        "workflow.add_edge(\"web_search\", \"generate\")  # Web search routes to generation\n",
        "workflow.add_edge(\"retrieve\", \"grade_documents\")  # Retrieval to grading\n",
        "\n",
        "# ✅ **Fix: Ensure Generation Can End**\n",
        "workflow.add_conditional_edges(\n",
        "    \"grade_documents\",\n",
        "    decide_to_generate,\n",
        "    {\n",
        "        \"transform_query\": \"transform_query\",\n",
        "        \"generate\": \"generate\",\n",
        "    },\n",
        ")\n",
        "\n",
        "workflow.add_edge(\"transform_query\", \"retrieve\")  # Transform query loops back to retrieval\n",
        "\n",
        "# ✅ **Ensure \"generate\" has a stopping condition**\n",
        "workflow.add_conditional_edges(\n",
        "    \"generate\",\n",
        "    grade_generation_v_documents_and_question,\n",
        "    {\n",
        "        \"not supported\": END,  # 🚀 Fix: Ensure a path leads to END\n",
        "        \"useful\": END,  # 🚀 Fix: Ensure a path leads to END\n",
        "        \"not useful\": \"transform_query\",\n",
        "    },\n",
        ")\n",
        "\n",
        "# ✅ **Compile the workflow again**\n",
        "graph_4_adaptiverag = workflow.compile()\n"
      ]
    },
    {
      "cell_type": "code",
      "execution_count": 302,
      "metadata": {
        "colab": {
          "base_uri": "https://localhost:8080/",
          "height": 587
        },
        "id": "9qdIgVIndl2d",
        "outputId": "ea321376-d945-47de-fc33-c25ebbe8de7e"
      },
      "outputs": [
        {
          "output_type": "display_data",
          "data": {
            "image/png": "[encoded data removed]",
            "text/plain": [
              "<IPython.core.display.Image object>"
            ]
          },
          "metadata": {}
        }
      ],
      "source": [
        "from IPython.display import Image, display\n",
        "\n",
        "try:\n",
        "    display(Image(graph_4_adaptiverag.get_graph(xray=True).draw_mermaid_png()))\n",
        "except Exception:\n",
        "    # This requires some extra dependencies and is optional\n",
        "    pass"
      ]
    },
    {
      "cell_type": "markdown",
      "metadata": {
        "id": "ZbHYVcU4dl2e"
      },
      "source": [
        "#### Flow 5 - Adaptive RAG (custom) = Corrective RAG (custom) + Query Analysis"
      ]
    },
    {
      "cell_type": "code",
      "execution_count": 303,
      "metadata": {
        "id": "LPU3wLjTdl2e"
      },
      "outputs": [],
      "source": [
        "from langgraph.graph import END, StateGraph, START\n",
        "\n",
        "workflow = StateGraph(GraphState)\n",
        "\n",
        "# Define the nodes\n",
        "workflow.add_node(\"retrieve\", retrieve)  # retrieve\n",
        "workflow.add_node(\"grade_documents\", grade_documents)  # grade documents\n",
        "workflow.add_node(\"generate\", generate)  # generatae\n",
        "workflow.add_node(\"transform_query\", transform_query)  # transform_query\n",
        "workflow.add_node(\"web_search\", web_search)  # web search\n",
        "\n",
        "# Build graph\n",
        "# set_conditional_entry_point method doesn't require mentioning START\n",
        "workflow.add_conditional_edges(\n",
        "    START,\n",
        "    route_question,\n",
        "    {\n",
        "        \"web_search\": \"web_search\",\n",
        "        \"vectorstore\": \"retrieve\",\n",
        "    },\n",
        ")\n",
        "workflow.add_edge(\"web_search\", \"generate\")\n",
        "workflow.add_edge(\"retrieve\", \"grade_documents\")\n",
        "workflow.add_conditional_edges(\n",
        "    \"grade_documents\",\n",
        "    decide_to_generate,\n",
        "    {\n",
        "        \"transform_query\": \"transform_query\",\n",
        "        \"generate\": \"generate\",\n",
        "    },\n",
        ")\n",
        "workflow.add_edge(\"transform_query\", \"web_search\")\n",
        "workflow.add_edge(\"web_search\", \"generate\")\n",
        "workflow.add_conditional_edges(\n",
        "    \"generate\",\n",
        "    grade_generation_v_documents_and_question,\n",
        "    {\n",
        "        \"not supported\": \"generate\",\n",
        "        \"useful\": END,\n",
        "        \"not useful\": \"transform_query\",\n",
        "    },\n",
        ")\n",
        "\n",
        "# Compile\n",
        "graph_5_adaptiverag_custom = workflow.compile()"
      ]
    },
    {
      "cell_type": "code",
      "execution_count": 304,
      "metadata": {
        "colab": {
          "base_uri": "https://localhost:8080/",
          "height": 586
        },
        "id": "YC7h-INDdl2e",
        "outputId": "fb69fc13-abcc-4f28-d171-f6ded0416df4"
      },
      "outputs": [
        {
          "output_type": "display_data",
          "data": {
            "image/png": "[encoded data removed]",
            "text/plain": [
              "<IPython.core.display.Image object>"
            ]
          },
          "metadata": {}
        }
      ],
      "source": [
        "from IPython.display import Image, display\n",
        "\n",
        "try:\n",
        "    display(Image(graph_5_adaptiverag_custom.get_graph(xray=True).draw_mermaid_png()))\n",
        "except Exception:\n",
        "    # This requires some extra dependencies and is optional\n",
        "    pass"
      ]
    },
    {
      "cell_type": "markdown",
      "metadata": {
        "id": "wTMyAqx9dl2e"
      },
      "source": [
        "## Use Graph"
      ]
    },
    {
      "cell_type": "markdown",
      "metadata": {
        "id": "5vgRawYAdl2e"
      },
      "source": [
        "### For Question Not in Context"
      ]
    },
    {
      "cell_type": "code",
      "execution_count": 305,
      "metadata": {
        "colab": {
          "base_uri": "https://localhost:8080/",
          "height": 35
        },
        "id": "iKjJFkSAdl2e",
        "outputId": "efdcb486-8bb5-4aaa-8df9-5b7db98410d9"
      },
      "outputs": [
        {
          "output_type": "execute_result",
          "data": {
            "text/plain": [
              "'Who is Nikola Tesla'"
            ],
            "application/vnd.google.colaboratory.intrinsic+json": {
              "type": "string"
            }
          },
          "metadata": {},
          "execution_count": 305
        }
      ],
      "source": [
        "question_search"
      ]
    },
    {
      "cell_type": "code",
      "execution_count": 306,
      "metadata": {
        "id": "og8_DvxJdl2f"
      },
      "outputs": [],
      "source": [
        "# Run\n",
        "inputs = {\n",
        "    \"question\": question_search\n",
        "}"
      ]
    },
    {
      "cell_type": "code",
      "execution_count": 307,
      "metadata": {
        "colab": {
          "base_uri": "https://localhost:8080/"
        },
        "id": "eZq58p8ndl2f",
        "outputId": "b71979a0-491d-4c6b-c798-d07e4e09e766"
      },
      "outputs": [
        {
          "output_type": "stream",
          "name": "stdout",
          "text": [
            "FLOW 1----->\n",
            "\n",
            "---RETRIEVE---\n",
            "\"Node 'retrieve':\"\n",
            "'\\n---\\n'\n",
            "---CHECK DOCUMENT RELEVANCE TO QUESTION---\n",
            "---GRADE: DOCUMENT NOT RELEVANT---\n",
            "---GRADE: DOCUMENT NOT RELEVANT---\n",
            "---GRADE: DOCUMENT NOT RELEVANT---\n",
            "---GRADE: DOCUMENT NOT RELEVANT---\n",
            "---ASSESS GRADED DOCUMENTS---\n",
            "---DECISION: ALL DOCUMENTS ARE NOT RELEVANT TO QUESTION, TRANSFORM QUERY---\n",
            "\"Node 'grade_documents':\"\n",
            "'\\n---\\n'\n",
            "---TRANSFORM QUERY---\n",
            "\"Node 'transform_query':\"\n",
            "'\\n---\\n'\n",
            "---WEB SEARCH---\n",
            "\"Node 'web_search':\"\n",
            "'\\n---\\n'\n",
            "---GENERATE---\n",
            "\"Node 'generate':\"\n",
            "'\\n---\\n'\n",
            "('Nikola Tesla was born on July 10, 1856, in Smiljan, Croatia. He studied at '\n",
            " 'the Realschule in Karlstadt, Germany, the Polytechnic Institute in Graz, '\n",
            " 'Austria, and the University of Prague in the 1870s. Tesla immigrated to the '\n",
            " 'United States in 1884.')\n",
            "------------------------------------------------------------\n",
            "\n",
            "\n",
            "\n",
            "FLOW 3----->\n",
            "\n",
            "---RETRIEVE---\n",
            "\"Node 'retrieve':\"\n",
            "'\\n---\\n'\n",
            "---CHECK DOCUMENT RELEVANCE TO QUESTION---\n",
            "---GRADE: DOCUMENT NOT RELEVANT---\n",
            "---GRADE: DOCUMENT NOT RELEVANT---\n",
            "---GRADE: DOCUMENT NOT RELEVANT---\n",
            "---GRADE: DOCUMENT NOT RELEVANT---\n",
            "---ASSESS GRADED DOCUMENTS---\n",
            "---DECISION: ALL DOCUMENTS ARE NOT RELEVANT TO QUESTION, TRANSFORM QUERY---\n",
            "\"Node 'grade_documents':\"\n",
            "'\\n---\\n'\n",
            "---TRANSFORM QUERY---\n",
            "\"Node 'transform_query':\"\n",
            "'\\n---\\n'\n",
            "---WEB SEARCH---\n",
            "\"Node 'web_search':\"\n",
            "'\\n---\\n'\n",
            "---GENERATE---\n",
            "---CHECK HALLUCINATIONS---\n",
            "---DECISION: GENERATION IS GROUNDED IN DOCUMENTS---\n",
            "---GRADE GENERATION vs QUESTION---\n",
            "---DECISION: GENERATION ADDRESSES QUESTION---\n",
            "\"Node 'generate':\"\n",
            "'\\n---\\n'\n",
            "('Nikola Tesla was a Serbian-American inventor and electrical engineer born in '\n",
            " '1856. He received over 700 patents for his work and was awarded the Edison '\n",
            " 'Medal in 1917. Tesla studied at the Realschule in Karlstadt, Germany, the '\n",
            " 'Polytechnic Institute in Graz, Austria, and the University of Prague.')\n",
            "------------------------------------------------------------\n",
            "\n",
            "\n",
            "\n",
            "FLOW 5----->\n",
            "\n",
            "---ROUTE QUESTION---\n",
            "---ROUTE QUESTION TO WEB SEARCH---\n",
            "---WEB SEARCH---\n",
            "\"Node 'web_search':\"\n",
            "'\\n---\\n'\n",
            "---GENERATE---\n",
            "---CHECK HALLUCINATIONS---\n",
            "---DECISION: GENERATION IS GROUNDED IN DOCUMENTS---\n",
            "---GRADE GENERATION vs QUESTION---\n",
            "---DECISION: GENERATION ADDRESSES QUESTION---\n",
            "\"Node 'generate':\"\n",
            "'\\n---\\n'\n",
            "('Nikola Tesla was a Serbian-American inventor, electrical engineer, and '\n",
            " 'mechanical engineer who was awarded about 300 patents for his inventions. He '\n",
            " 'made significant contributions to the design of the alternating current (AC) '\n",
            " 'system and was instrumental in transforming America with his technological '\n",
            " 'achievements. Tesla is known for his contributions to the development of the '\n",
            " 'modern power station and his work on wireless transmission of energy.')\n",
            "------------------------------------------------------------\n",
            "\n",
            "\n",
            "\n"
          ]
        }
      ],
      "source": [
        "#Self-RAG gets stuck in loop!\n",
        "for i,app in enumerate([graph_1_crag, graph_3_crag_custom, graph_5_adaptiverag_custom]):\n",
        "    print(\"FLOW {}----->\".format(str(2*i+1))+\"\\n\")\n",
        "    for output in app.stream(inputs):\n",
        "        for key, value in output.items():\n",
        "            # Node\n",
        "            pprint(f\"Node '{key}':\")\n",
        "            # Optional: print full state at each node\n",
        "            # pprint.pprint(value[\"keys\"], indent=2, width=80, depth=None)\n",
        "        pprint(\"\\n---\\n\")\n",
        "\n",
        "    # Final generation\n",
        "    pprint(value[\"generation\"])\n",
        "    print(\"---\"*20 + \"\\n\\n\\n\")"
      ]
    },
    {
      "cell_type": "markdown",
      "metadata": {
        "id": "WJlxNvU4dl2f"
      },
      "source": [
        "### For Question in Context"
      ]
    },
    {
      "cell_type": "code",
      "execution_count": 308,
      "metadata": {
        "colab": {
          "base_uri": "https://localhost:8080/",
          "height": 35
        },
        "id": "tk1sq4Qmdl2f",
        "outputId": "33edf7fb-b307-4d79-b6d8-f988c849a1e0"
      },
      "outputs": [
        {
          "output_type": "execute_result",
          "data": {
            "text/plain": [
              "'What are the highlights of the PGP in Data Science and AI course at Jio Institute'"
            ],
            "application/vnd.google.colaboratory.intrinsic+json": {
              "type": "string"
            }
          },
          "metadata": {},
          "execution_count": 308
        }
      ],
      "source": [
        "question_doc"
      ]
    },
    {
      "cell_type": "code",
      "execution_count": 309,
      "metadata": {
        "id": "p4ZXnOPndl2f"
      },
      "outputs": [],
      "source": [
        "# Run\n",
        "inputs = {\"question\": question_doc}"
      ]
    },
    {
      "cell_type": "code",
      "execution_count": 314,
      "metadata": {
        "colab": {
          "base_uri": "https://localhost:8080/"
        },
        "id": "aWi7fMLgdl2f",
        "outputId": "3f7ba23d-3370-44d1-8844-0c6655cb0193"
      },
      "outputs": [
        {
          "output_type": "stream",
          "name": "stdout",
          "text": [
            "FLOW 1----->\n",
            "\n",
            "---RETRIEVE---\n",
            "\"Node 'retrieve':\"\n",
            "'\\n---\\n'\n",
            "---CHECK DOCUMENT RELEVANCE TO QUESTION---\n",
            "---GRADE: DOCUMENT RELEVANT---\n",
            "---GRADE: DOCUMENT RELEVANT---\n",
            "---GRADE: DOCUMENT RELEVANT---\n",
            "---GRADE: DOCUMENT RELEVANT---\n",
            "---ASSESS GRADED DOCUMENTS---\n",
            "---DECISION: GENERATE---\n",
            "\"Node 'grade_documents':\"\n",
            "'\\n---\\n'\n",
            "---GENERATE---\n",
            "\"Node 'generate':\"\n",
            "'\\n---\\n'\n",
            "('The PGP in Data Science and AI course at Jio Institute has a comprehensive '\n",
            " 'and rigorous curriculum that covers foundation and advanced courses to train '\n",
            " 'future-ready full-stack data scientists and AI architects. The course is '\n",
            " 'designed for students with a four-year undergraduate degree or its '\n",
            " 'equivalent in Engineering/Science/Mathematics and Statistics. The '\n",
            " 'eligibility criteria also include a postgraduate degree for students with a '\n",
            " 'three-year undergraduate degree.')\n",
            "------------------------------------------------------------\n",
            "\n",
            "\n",
            "\n",
            "FLOW 2----->\n",
            "\n",
            "---RETRIEVE---\n",
            "\"Node 'retrieve':\"\n",
            "'\\n---\\n'\n",
            "---CHECK DOCUMENT RELEVANCE TO QUESTION---\n",
            "---GRADE: DOCUMENT RELEVANT---\n",
            "---GRADE: DOCUMENT RELEVANT---\n",
            "---GRADE: DOCUMENT RELEVANT---\n",
            "---GRADE: DOCUMENT RELEVANT---\n",
            "---ASSESS GRADED DOCUMENTS---\n",
            "---DECISION: GENERATE---\n",
            "\"Node 'grade_documents':\"\n",
            "'\\n---\\n'\n",
            "---GENERATE---\n",
            "---CHECK HALLUCINATIONS---\n",
            "---DECISION: GENERATION IS GROUNDED IN DOCUMENTS---\n",
            "---GRADE GENERATION vs QUESTION---\n",
            "---DECISION: GENERATION ADDRESSES QUESTION---\n",
            "\"Node 'generate':\"\n",
            "'\\n---\\n'\n",
            "('The highlights of the PGP in Data Science and AI course at Jio Institute are '\n",
            " 'its comprehensive and rigorous curriculum, which trains future-ready '\n",
            " 'full-stack data scientists and AI architects. The program covers foundation '\n",
            " 'and advanced courses, and eligibility requires a four-year undergraduate '\n",
            " 'degree or its equivalent in Engineering/Science/Mathematics and Statistics '\n",
            " 'with a minimum 50% CGPA or equivalent. The program invites applications from '\n",
            " 'meritorious students from across the globe.')\n",
            "------------------------------------------------------------\n",
            "\n",
            "\n",
            "\n",
            "FLOW 3----->\n",
            "\n",
            "---RETRIEVE---\n",
            "\"Node 'retrieve':\"\n",
            "'\\n---\\n'\n",
            "---CHECK DOCUMENT RELEVANCE TO QUESTION---\n",
            "---GRADE: DOCUMENT RELEVANT---\n",
            "---GRADE: DOCUMENT RELEVANT---\n",
            "---GRADE: DOCUMENT RELEVANT---\n",
            "---GRADE: DOCUMENT RELEVANT---\n",
            "---ASSESS GRADED DOCUMENTS---\n",
            "---DECISION: GENERATE---\n",
            "\"Node 'grade_documents':\"\n",
            "'\\n---\\n'\n",
            "---GENERATE---\n",
            "---CHECK HALLUCINATIONS---\n",
            "---DECISION: GENERATION IS GROUNDED IN DOCUMENTS---\n",
            "---GRADE GENERATION vs QUESTION---\n",
            "---DECISION: GENERATION DOES NOT ADDRESS QUESTION---\n",
            "\"Node 'generate':\"\n",
            "'\\n---\\n'\n",
            "---TRANSFORM QUERY---\n",
            "\"Node 'transform_query':\"\n",
            "'\\n---\\n'\n",
            "---WEB SEARCH---\n",
            "\"Node 'web_search':\"\n",
            "'\\n---\\n'\n",
            "---GENERATE---\n",
            "---CHECK HALLUCINATIONS---\n",
            "'---DECISION: GENERATION IS NOT GROUNDED IN DOCUMENTS, RE-TRY---'\n",
            "\"Node 'generate':\"\n",
            "'\\n---\\n'\n",
            "---GENERATE---\n",
            "---CHECK HALLUCINATIONS---\n",
            "'---DECISION: GENERATION IS NOT GROUNDED IN DOCUMENTS, RE-TRY---'\n",
            "\"Node 'generate':\"\n",
            "'\\n---\\n'\n",
            "---GENERATE---\n",
            "---CHECK HALLUCINATIONS---\n",
            "---DECISION: GENERATION IS GROUNDED IN DOCUMENTS---\n",
            "---GRADE GENERATION vs QUESTION---\n",
            "---DECISION: GENERATION DOES NOT ADDRESS QUESTION---\n",
            "\"Node 'generate':\"\n",
            "'\\n---\\n'\n",
            "---TRANSFORM QUERY---\n",
            "\"Node 'transform_query':\"\n",
            "'\\n---\\n'\n",
            "---WEB SEARCH---\n",
            "\"Node 'web_search':\"\n",
            "'\\n---\\n'\n",
            "---GENERATE---\n",
            "---CHECK HALLUCINATIONS---\n",
            "---DECISION: GENERATION IS GROUNDED IN DOCUMENTS---\n",
            "---GRADE GENERATION vs QUESTION---\n",
            "---DECISION: GENERATION ADDRESSES QUESTION---\n",
            "\"Node 'generate':\"\n",
            "'\\n---\\n'\n",
            "('The key features of the PGP in Data Science and AI course provided by Jio '\n",
            " 'Institute include a comprehensive and rigorous curriculum covering '\n",
            " 'foundation and advanced courses. The course covers key concepts and '\n",
            " 'technologies such as Machine Learning, Deep Learning, and Natural Language '\n",
            " 'Processing. It aims to train future-ready full-stack data scientists and AI '\n",
            " 'architects.')\n",
            "------------------------------------------------------------\n",
            "\n",
            "\n",
            "\n"
          ]
        }
      ],
      "source": [
        "for i,app in enumerate([graph_1_crag, graph_2_selfrag, graph_3_crag_custom]):\n",
        "    print(\"FLOW {}----->\".format(str(i+1))+\"\\n\")\n",
        "    for output in app.stream(inputs):\n",
        "        for key, value in output.items():\n",
        "            # Node\n",
        "            pprint(f\"Node '{key}':\")\n",
        "            # Optional: print full state at each node\n",
        "            # pprint.pprint(value[\"keys\"], indent=2, width=80, depth=None)\n",
        "        pprint(\"\\n---\\n\")\n",
        "\n",
        "    # Final generation\n",
        "    pprint(value[\"generation\"])\n",
        "    print(\"---\"*20 + \"\\n\\n\\n\")"
      ]
    },
    {
      "cell_type": "code",
      "execution_count": 313,
      "metadata": {
        "colab": {
          "base_uri": "https://localhost:8080/"
        },
        "id": "pULB57DFdl2f",
        "outputId": "c0b8485d-ed32-4392-8a76-08b16b01be14"
      },
      "outputs": [
        {
          "output_type": "stream",
          "name": "stdout",
          "text": [
            "FLOW 4----->\n",
            "\n",
            "---ROUTE QUESTION---\n",
            "---ROUTE QUESTION TO RAG---\n",
            "---RETRIEVE---\n",
            "\"Node 'retrieve':\"\n",
            "'\\n---\\n'\n",
            "---CHECK DOCUMENT RELEVANCE TO QUESTION---\n",
            "---GRADE: DOCUMENT RELEVANT---\n",
            "---GRADE: DOCUMENT RELEVANT---\n",
            "---GRADE: DOCUMENT RELEVANT---\n",
            "---GRADE: DOCUMENT RELEVANT---\n",
            "---ASSESS GRADED DOCUMENTS---\n",
            "---DECISION: GENERATE---\n",
            "\"Node 'grade_documents':\"\n",
            "'\\n---\\n'\n",
            "---GENERATE---\n",
            "---CHECK HALLUCINATIONS---\n",
            "'---DECISION: GENERATION IS NOT GROUNDED IN DOCUMENTS, RE-TRY---'\n",
            "\"Node 'generate':\"\n",
            "'\\n---\\n'\n",
            "('Unfortunately, the provided context does not explicitly mention the '\n",
            " 'highlights of the PGP in Data Science and AI course at Jio Institute. The '\n",
            " 'context only provides information on the eligibility criteria for the '\n",
            " 'course.')\n",
            "------------------------------------------------------------\n",
            "\n",
            "\n",
            "\n",
            "FLOW 5----->\n",
            "\n",
            "---ROUTE QUESTION---\n",
            "---ROUTE QUESTION TO WEB SEARCH---\n",
            "---WEB SEARCH---\n",
            "\"Node 'web_search':\"\n",
            "'\\n---\\n'\n",
            "---GENERATE---\n",
            "---CHECK HALLUCINATIONS---\n",
            "'---DECISION: GENERATION IS NOT GROUNDED IN DOCUMENTS, RE-TRY---'\n",
            "\"Node 'generate':\"\n",
            "'\\n---\\n'\n",
            "---GENERATE---\n",
            "---CHECK HALLUCINATIONS---\n",
            "'---DECISION: GENERATION IS NOT GROUNDED IN DOCUMENTS, RE-TRY---'\n",
            "\"Node 'generate':\"\n",
            "'\\n---\\n'\n",
            "---GENERATE---\n",
            "---CHECK HALLUCINATIONS---\n",
            "'---DECISION: GENERATION IS NOT GROUNDED IN DOCUMENTS, RE-TRY---'\n",
            "\"Node 'generate':\"\n",
            "'\\n---\\n'\n",
            "---GENERATE---\n",
            "---CHECK HALLUCINATIONS---\n",
            "---DECISION: GENERATION IS GROUNDED IN DOCUMENTS---\n",
            "---GRADE GENERATION vs QUESTION---\n",
            "---DECISION: GENERATION ADDRESSES QUESTION---\n",
            "\"Node 'generate':\"\n",
            "'\\n---\\n'\n",
            "('The highlights of the PGP in Data Science and AI course at Jio Institute '\n",
            " 'include key concepts such as Machine Learning, Deep Learning, Natural '\n",
            " 'Language Processing, and Optimization. The course focuses on real-world '\n",
            " 'applications and covers topics like Responsible AI, Reinforcement Learning, '\n",
            " 'and Time Series Analysis. It also emphasizes the importance of domain '\n",
            " 'knowledge and integrating AI models into existing business processes.')\n",
            "------------------------------------------------------------\n",
            "\n",
            "\n",
            "\n"
          ]
        }
      ],
      "source": [
        "#Adaptive RAG (custom) is referring to web search, although information is present in the provided context\n",
        "for i,app in enumerate([graph_4_adaptiverag, graph_5_adaptiverag_custom]):\n",
        "    print(\"FLOW {}----->\".format(str(i+4))+\"\\n\")\n",
        "    for output in app.stream(inputs):\n",
        "        for key, value in output.items():\n",
        "            # Node\n",
        "            pprint(f\"Node '{key}':\")\n",
        "            # Optional: print full state at each node\n",
        "            # pprint.pprint(value[\"keys\"], indent=2, width=80, depth=None)\n",
        "        pprint(\"\\n---\\n\")\n",
        "\n",
        "    # Final generation\n",
        "    pprint(value[\"generation\"])\n",
        "    print(\"---\"*20 + \"\\n\\n\\n\")"
      ]
    },
    {
      "cell_type": "code",
      "source": [
        "# STEP 9 - Test with a relevant question that routes to Wikipedia\n",
        "\n",
        "# Define test queries (all should go to Wikipedia)\n",
        "test_queries = [\n",
        "    \"Who is Nikola Tesla?\",\n",
        "    \"History of Artificial Intelligence\",\n",
        "    \"Define Reinforcement Learning\",\n",
        "    \"What is Quantum Computing?\",\n",
        "]\n",
        "\n",
        "# Function to test Wikipedia routing\n",
        "def test_wikipedia_routing(query):\n",
        "    print(f\"\\n🚀 Testing query: {query}\")\n",
        "    state = {\"question\": query}\n",
        "    selected_tool = route_question(state)  # Determine which tool it goes to\n",
        "\n",
        "    # Ensure it's routing to Wikipedia\n",
        "    if selected_tool == \"wikipedia\":\n",
        "        print(f\"✅ Routed to: WIKIPEDIA\")\n",
        "        result = wikipedia_tool.run(query)  # Execute Wikipedia tool\n",
        "        print(f\"📌 Wikipedia Result: {result[:500]}\")  # Show first 500 characters\n",
        "    else:\n",
        "        print(f\"❌ Incorrect Routing! Expected Wikipedia but got: {selected_tool}\")\n",
        "\n",
        "# Run the test cases\n",
        "for query in test_queries:\n",
        "    test_wikipedia_routing(query)\n"
      ],
      "metadata": {
        "colab": {
          "base_uri": "https://localhost:8080/"
        },
        "id": "IwzloNC55BLa",
        "outputId": "72373ba2-b6cd-4506-f254-3420646a2d97"
      },
      "execution_count": 327,
      "outputs": [
        {
          "output_type": "stream",
          "name": "stdout",
          "text": [
            "\n",
            "🚀 Testing query: Who is Nikola Tesla?\n",
            "---ROUTE QUESTION---\n",
            "🔍 Raw Output from question_router: {'question': 'Who is Nikola Tesla?', 'text': 'The best tool for the query \"Who is Nikola Tesla\" would be \\'wikipedia\\'. \\n\\nNikola Tesla is a historical figure, an inventor, and a pioneer in the field of electrical engineering. Wikipedia would provide a comprehensive overview of his life, work, and contributions to the field of electrical engineering, making it the most suitable source for this type of query.'}\n",
            "---ROUTE QUESTION TO WIKIPEDIA---\n",
            "✅ Routed to: WIKIPEDIA\n",
            "📌 Wikipedia Result: Page: Nikola Tesla's Night of Terror\n",
            "Summary: \"Nikola Tesla's Night of Terror\" is the fourth episode of the twelfth series of the British science fiction television programme Doctor Who, first broadcast on BBC One on 19 January 2020. It was written by Nina Metivier, and directed by Nida Manzoor.\n",
            "In 1903, the Thirteenth Doctor (Jodie Whittaker) helps Nikola Tesla (Goran Višnjić) escape from being kidnapped by the Skithra aliens, along with the assistance of her companions Graham O'Brien (Bradley \n",
            "\n",
            "🚀 Testing query: History of Artificial Intelligence\n",
            "---ROUTE QUESTION---\n",
            "🔍 Raw Output from question_router: {'question': 'History of Artificial Intelligence', 'text': 'For the query \"History of Artificial Intelligence\", I would recommend using \\'wikipedia\\'. \\n\\nThis is because \\'wikipedia\\' is a comprehensive and reliable source for general knowledge, historical topics, and definitions related to the history of Artificial Intelligence. Wikipedia articles on AI often provide in-depth information on its development, milestones, key figures, and the progression of AI over time.'}\n",
            "---ROUTE QUESTION TO WIKIPEDIA---\n",
            "✅ Routed to: WIKIPEDIA\n",
            "📌 Wikipedia Result: Page: History of artificial intelligence\n",
            "Summary: The history of artificial intelligence (AI) began in antiquity, with myths, stories, and rumors of artificial beings endowed with intelligence or consciousness by master craftsmen. The study of logic and formal reasoning from antiquity to the present led directly to the invention of the programmable digital computer in the 1940s, a machine based on abstract mathematical reasoning. This device and the ideas behind it inspired scientists to begin d\n",
            "\n",
            "🚀 Testing query: Define Reinforcement Learning\n",
            "---ROUTE QUESTION---\n",
            "🔍 Raw Output from question_router: {'question': 'Define Reinforcement Learning', 'text': 'Based on the query \"Define Reinforcement Learning,\" I would choose \\'wikipedia\\' as the best tool. \\n\\nReinforcement learning is a general term in the field of artificial intelligence, and wikipedia is a reliable source for definitions and general knowledge. It will likely provide a clear and concise explanation of the concept, including its historical context and key principles. \\n\\nUsing wikipedia will allow you to access a wealth of information on reinforcement learning, including its definition, types, applications, and related concepts.'}\n",
            "---ROUTE QUESTION TO WIKIPEDIA---\n",
            "✅ Routed to: WIKIPEDIA\n",
            "📌 Wikipedia Result: Page: Reinforcement learning\n",
            "Summary: Reinforcement learning (RL) is an interdisciplinary area of machine learning and optimal control concerned with how an intelligent agent should take actions in a dynamic environment in order to maximize a reward signal. Reinforcement learning is one of the three basic machine learning paradigms, alongside supervised learning and unsupervised learning.\n",
            "Q-learning at its simplest stores data in tables. This approach becomes infeasible as the number of states/a\n",
            "\n",
            "🚀 Testing query: What is Quantum Computing?\n",
            "---ROUTE QUESTION---\n",
            "🔍 Raw Output from question_router: {'question': 'What is Quantum Computing?', 'text': 'The best tool for the query \"What is Quantum Computing?\" would be \\'wikipedia\\'. \\n\\nThis is because the query seems to be looking for a general definition and understanding of the concept of Quantum Computing, which falls under general knowledge, historical topics, and definitions. Wikipedia is a reliable resource for such information, providing in-depth explanations and overviews of various topics, including complex subjects like Quantum Computing.'}\n",
            "---ROUTE QUESTION TO WIKIPEDIA---\n",
            "✅ Routed to: WIKIPEDIA\n",
            "📌 Wikipedia Result: Page: Quantum computing\n",
            "Summary: A quantum computer is a computer that exploits quantum mechanical phenomena. On small scales, physical matter exhibits properties of both particles and waves, and quantum computing leverages this behavior using specialized hardware. Classical physics cannot explain the operation of these quantum devices, and a scalable quantum computer could perform some calculations exponentially faster than any modern \"classical\" computer. Theoretically a large-scale quantum co\n"
          ]
        }
      ]
    },
    {
      "cell_type": "code",
      "source": [
        "# !pip install langsmith"
      ],
      "metadata": {
        "id": "Qu9Of5hn5_Dz"
      },
      "execution_count": 329,
      "outputs": []
    },
    {
      "cell_type": "code",
      "source": [
        "import os\n",
        "\n",
        "# ✅ Set LangSmith API Key\n",
        "os.environ[\"LANGCHAIN_API_KEY\"] = \"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\"  # Replace with actual API Key\n",
        "\n",
        "# ✅ Enable LangSmith Tracing\n",
        "os.environ[\"LANGCHAIN_TRACING_V2\"] = \"true\"\n",
        "\n",
        "# ✅ Ensure LangChain sends traces to LangSmith\n",
        "os.environ[\"LANGCHAIN_ENDPOINT\"] = \"https://api.smith.langchain.com\"\n",
        "os.environ[\"LANGCHAIN_PROJECT\"] = \"MyLangSmithProject\"  # Change this to a project name\n"
      ],
      "metadata": {
        "id": "zG9Ye_508Oay"
      },
      "execution_count": 337,
      "outputs": []
    },
    {
      "cell_type": "code",
      "source": [
        "#Check for LangSmith tracing\n",
        "_set_env(\"LANGCHAIN_TRACING_V2\")"
      ],
      "metadata": {
        "colab": {
          "base_uri": "https://localhost:8080/"
        },
        "id": "ZPb4AaEc6ODo",
        "outputId": "c33158f3-22f7-4a95-97a8-3be720d31d13"
      },
      "execution_count": 330,
      "outputs": [
        {
          "name": "stdout",
          "output_type": "stream",
          "text": [
            "LANGCHAIN_TRACING_V2: ··········\n"
          ]
        }
      ]
    },
    {
      "cell_type": "code",
      "source": [
        "#Check for LangChain API Key - LangSmith\n",
        "_set_env(\"LANGCHAIN_API_KEY\")"
      ],
      "metadata": {
        "colab": {
          "base_uri": "https://localhost:8080/"
        },
        "id": "jRNIcWOH6R4B",
        "outputId": "d0978636-4e8b-44c1-bfe7-5d21550f216c"
      },
      "execution_count": 331,
      "outputs": [
        {
          "name": "stdout",
          "output_type": "stream",
          "text": [
            "LANGCHAIN_API_KEY: ··········\n"
          ]
        }
      ]
    },
    {
      "cell_type": "code",
      "source": [
        "from langsmith import trace\n",
        "\n",
        "# Define the query (same for all three runs)\n",
        "test_query = \"Who is Nikola Tesla?\"\n",
        "\n",
        "# Function to run the query and collect trace data\n",
        "def run_wikipedia_query(query):\n",
        "    with trace(name=\"Wikipedia Query Trace\"):\n",
        "        print(f\"\\n🚀 Running Wikipedia Query: {query}\")\n",
        "\n",
        "        state = {\"question\": query}\n",
        "        selected_tool = route_question(state)\n",
        "\n",
        "        if selected_tool == \"wikipedia\":\n",
        "            print(f\"✅ Routed to: WIKIPEDIA\")\n",
        "            result = wikipedia_tool.run(query)\n",
        "            print(f\"📌 Wikipedia Result: {result[:500]}\")  # Show first 500 characters\n",
        "        else:\n",
        "            print(f\"❌ Incorrect Routing! Expected Wikipedia but got: {selected_tool}\")\n",
        "            result = None\n",
        "\n",
        "        return result\n",
        "\n",
        "# ✅ Run the query 3 times to generate 3 traces\n",
        "for i in range(3):\n",
        "    run_wikipedia_query(test_query)\n"
      ],
      "metadata": {
        "colab": {
          "base_uri": "https://localhost:8080/"
        },
        "id": "sq8C1LMj63jw",
        "outputId": "69f61a24-24bf-49a1-c7c0-b28ccaaccca3"
      },
      "execution_count": 338,
      "outputs": [
        {
          "output_type": "stream",
          "name": "stdout",
          "text": [
            "\n",
            "🚀 Running Wikipedia Query: Who is Nikola Tesla?\n",
            "---ROUTE QUESTION---\n",
            "🔍 Raw Output from question_router: {'question': 'Who is Nikola Tesla?', 'text': 'For the query \"Who is Nikola Tesla\", I would recommend using the tool \\'wikipedia\\'. \\n\\nNikola Tesla is a historical figure, and his information is readily available on Wikipedia. This platform would provide a detailed biography, historical context, and general knowledge about his life and contributions.'}\n",
            "---ROUTE QUESTION TO WIKIPEDIA---\n",
            "✅ Routed to: WIKIPEDIA\n",
            "📌 Wikipedia Result: Page: Nikola Tesla's Night of Terror\n",
            "Summary: \"Nikola Tesla's Night of Terror\" is the fourth episode of the twelfth series of the British science fiction television programme Doctor Who, first broadcast on BBC One on 19 January 2020. It was written by Nina Metivier, and directed by Nida Manzoor.\n",
            "In 1903, the Thirteenth Doctor (Jodie Whittaker) helps Nikola Tesla (Goran Višnjić) escape from being kidnapped by the Skithra aliens, along with the assistance of her companions Graham O'Brien (Bradley \n",
            "\n",
            "🚀 Running Wikipedia Query: Who is Nikola Tesla?\n",
            "---ROUTE QUESTION---\n",
            "🔍 Raw Output from question_router: {'question': 'Who is Nikola Tesla?', 'text': 'For the query \"Who is Nikola Tesla,\" I would choose \"wikipedia.\" This is because Nikola Tesla was a historical figure, an inventor, and a pioneer in the field of electrical engineering, and Wikipedia is generally a reliable source for general knowledge and historical information.'}\n",
            "---ROUTE QUESTION TO WIKIPEDIA---\n",
            "✅ Routed to: WIKIPEDIA\n",
            "📌 Wikipedia Result: Page: Nikola Tesla's Night of Terror\n",
            "Summary: \"Nikola Tesla's Night of Terror\" is the fourth episode of the twelfth series of the British science fiction television programme Doctor Who, first broadcast on BBC One on 19 January 2020. It was written by Nina Metivier, and directed by Nida Manzoor.\n",
            "In 1903, the Thirteenth Doctor (Jodie Whittaker) helps Nikola Tesla (Goran Višnjić) escape from being kidnapped by the Skithra aliens, along with the assistance of her companions Graham O'Brien (Bradley \n",
            "\n",
            "🚀 Running Wikipedia Query: Who is Nikola Tesla?\n",
            "---ROUTE QUESTION---\n",
            "🔍 Raw Output from question_router: {'question': 'Who is Nikola Tesla?', 'text': 'The best tool for the query \"Who is Nikola Tesla\" is \\'wikipedia\\'. \\n\\nNikola Tesla is a historical figure, and his biography is well-documented. Wikipedia is an excellent resource for general knowledge and historical topics, providing information on his life, inventions, and contributions to electrical engineering.'}\n",
            "---ROUTE QUESTION TO WIKIPEDIA---\n",
            "✅ Routed to: WIKIPEDIA\n",
            "📌 Wikipedia Result: Page: Nikola Tesla's Night of Terror\n",
            "Summary: \"Nikola Tesla's Night of Terror\" is the fourth episode of the twelfth series of the British science fiction television programme Doctor Who, first broadcast on BBC One on 19 January 2020. It was written by Nina Metivier, and directed by Nida Manzoor.\n",
            "In 1903, the Thirteenth Doctor (Jodie Whittaker) helps Nikola Tesla (Goran Višnjić) escape from being kidnapped by the Skithra aliens, along with the assistance of her companions Graham O'Brien (Bradley \n"
          ]
        }
      ]
    }
  ],
  "metadata": {
    "colab": {
      "provenance": []
    },
    "kernelspec": {
      "display_name": "Python 3",
      "language": "python",
      "name": "python3"
    },
    "language_info": {
      "codemirror_mode": {
        "name": "ipython",
        "version": 3
      },
      "file_extension": ".py",
      "mimetype": "text/x-python",
      "name": "python",
      "nbconvert_exporter": "python",
      "pygments_lexer": "ipython3",
      "version": "3.10.7"
    }
  },
  "nbformat": 4,
  "nbformat_minor": 0
}